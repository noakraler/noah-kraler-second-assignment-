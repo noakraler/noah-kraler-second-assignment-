{
  "nbformat": 4,
  "nbformat_minor": 0,
  "metadata": {
    "colab": {
      "provenance": []
    },
    "kernelspec": {
      "name": "python3",
      "display_name": "Python 3"
    },
    "language_info": {
      "name": "python"
    }
  },
  "cells": [
    {
      "cell_type": "code",
      "execution_count": 35,
      "metadata": {
        "id": "vowXRstocd8F"
      },
      "outputs": [],
      "source": [
        "import torch #import the library\n",
        "import torch.nn.functional as F #for functions such as loss coputation\n",
        "import matplotlib.pyplot as plt #for making figures\n",
        "%matplotlib inline"
      ]
    },
    {
      "cell_type": "code",
      "source": [
        "# download the names.txt file from github in the english language\n",
        "!wget https://raw.githubusercontent.com/noakraler/animal_names.txt/refs/heads/main/animal_names.txt"
      ],
      "metadata": {
        "colab": {
          "base_uri": "https://localhost:8080/"
        },
        "id": "9Rlc3YeWcm_d",
        "outputId": "33f144c7-bfe4-4850-fe18-33f7a32de6f8"
      },
      "execution_count": 36,
      "outputs": [
        {
          "output_type": "stream",
          "name": "stdout",
          "text": [
            "--2025-02-26 10:26:42--  https://raw.githubusercontent.com/noakraler/animal_names.txt/refs/heads/main/animal_names.txt\n",
            "Resolving raw.githubusercontent.com (raw.githubusercontent.com)... 185.199.109.133, 185.199.111.133, 185.199.110.133, ...\n",
            "Connecting to raw.githubusercontent.com (raw.githubusercontent.com)|185.199.109.133|:443... connected.\n",
            "HTTP request sent, awaiting response... 200 OK\n",
            "Length: 11753 (11K) [text/plain]\n",
            "Saving to: ‘animal_names.txt’\n",
            "\n",
            "\ranimal_names.txt      0%[                    ]       0  --.-KB/s               \ranimal_names.txt    100%[===================>]  11.48K  --.-KB/s    in 0s      \n",
            "\n",
            "2025-02-26 10:26:43 (99.3 MB/s) - ‘animal_names.txt’ saved [11753/11753]\n",
            "\n"
          ]
        }
      ]
    },
    {
      "cell_type": "code",
      "source": [
        "words_en = open('animal_names.txt', 'r').read().splitlines() #open a file in read more and read the content of it, in addition split the file into a list with separted words\n",
        "words_en = [word.replace(\"-\", \"\").replace(\"'\", \"\").replace(\",\",\" \").replace(\"’\",\" \").replace(\".\",\" \") for word in words_en] #replace/drop punctuation\n",
        "words_en = [word.lower() for word in words_en] #lower all letters\n",
        "words_en[:10] #show the first 10 words from the list\n",
        "\n"
      ],
      "metadata": {
        "colab": {
          "base_uri": "https://localhost:8080/"
        },
        "id": "uH2MGP4FcidR",
        "outputId": "ad19604c-b7a7-4505-ec6f-c90dd29fd546"
      },
      "execution_count": 37,
      "outputs": [
        {
          "output_type": "execute_result",
          "data": {
            "text/plain": [
              "['aardvark',\n",
              " 'albatross',\n",
              " 'alligator',\n",
              " 'alpaca',\n",
              " 'anaconda',\n",
              " 'angelfish',\n",
              " 'ant',\n",
              " 'anteater',\n",
              " 'antelope',\n",
              " 'armadillo']"
            ]
          },
          "metadata": {},
          "execution_count": 37
        }
      ]
    },
    {
      "cell_type": "code",
      "source": [
        "len(words_en) # count the  number of words in the list"
      ],
      "metadata": {
        "colab": {
          "base_uri": "https://localhost:8080/"
        },
        "id": "FbakoEqAcvnF",
        "outputId": "e3a345fa-3d21-42c9-a677-ab57f59bb06c"
      },
      "execution_count": 38,
      "outputs": [
        {
          "output_type": "execute_result",
          "data": {
            "text/plain": [
              "1044"
            ]
          },
          "metadata": {},
          "execution_count": 38
        }
      ]
    },
    {
      "cell_type": "code",
      "source": [
        "\n",
        "\n",
        "# build the vocabulary of characters and mappings to/from integers (EN)\n",
        "chars_en = sorted(list(set(''.join(words_en)))) #concatenates the words into a string, while organizing the characters into consisnt order\n",
        "print(chars_en)\n",
        "stoi_en = {s: i+1 for i, s in enumerate(chars_en)} #string to index\n",
        "stoi_en['.'] = 0\n",
        "# Remove numerical keys from stoi_en\n",
        "stoi_en = {k: v for k, v in stoi_en.items() if not k.isdigit()} # Filter out numerical keys\n",
        "print(stoi_en)\n",
        "itos_en = {i: s for s, i in stoi_en.items()} #index to string\n",
        "print(itos_en)\n",
        "\n",
        "\n",
        "# build the dataset  in english\n",
        "block_size = 3 #context length\n",
        "\n",
        "def build_dataset(words_en): #converts the list of words into dataset\n",
        "  X, Y = [], []\n",
        "  for w in words_en:\n",
        "\n",
        "\n",
        "    context = [0] * block_size #intializes a vector of length 3 into zeros\n",
        "    for ch in w + '.': #adds a period in the end of words\n",
        "      ix = stoi_en[ch] # get the index of the current character from stoi_en\n",
        "      X.append(context) #previous 3 characters\n",
        "      Y.append(ix) #next characters\n",
        "      context = context[1:] + [ix] # crop and append\n",
        "\n",
        "#tensor data formeat\n",
        "  X = torch.tensor(X)\n",
        "  Y = torch.tensor(Y)\n",
        "  print(X.shape, Y.shape)\n",
        "  return X, Y #return to dateset\n",
        "\n",
        "import random\n",
        "random.seed(42) # make sure the the random shuffle is consistent\n",
        "random.shuffle(words_en)\n",
        "n1 = int(0.8*len(words_en)) #for training\n",
        "n2 = int(0.9*len(words_en)) #for validation\n",
        "\n",
        "Xtr_en, Ytr_en = build_dataset(words_en[:n1]) # Define Xtr_en, Ytr_en - convert to numerical -traning set\n",
        "Xdev, Ydev = build_dataset(words_en[n1:n2])   #validation set\n",
        "Xte, Yte = build_dataset(words_en[n2:]) #test set\n",
        "\n",
        " # tensor into a 1D list\n",
        "all_chars_in_Xtr_en = set(Xtr_en.flatten().tolist())\n",
        "\n",
        "#finding missing characters\n",
        "missing_chars = all_chars_in_Xtr_en - set(stoi_en.keys())\n",
        "\n",
        "#adding special characters\n",
        "next_index = max(stoi_en.values()) + 1\n",
        "for char in missing_chars:\n",
        "    stoi_en[char] = next_index\n",
        "    next_index += 1\n",
        "\n",
        "\n",
        "#Add handling for unknown characters\n",
        "max_index_in_Xtr_en = torch.max(Xtr_en) # find the biggest index\n",
        "if max_index_in_Xtr_en >= len(stoi_en): #find any character not in vocabulary\n",
        "    print(f\"Warning: Xtr contains indices greater than vocabulary size. Max index in Xtr: {max_index_in_Xtr_en}, Vocabulary size: {len(stoi_en)}\")\n",
        "    Xtr_en[Xtr_en >= len(stoi_en)] = 0 # replace unknown characters with a special token\n",
        "\n",
        "\n",
        "\n"
      ],
      "metadata": {
        "colab": {
          "base_uri": "https://localhost:8080/"
        },
        "id": "L0MM29ruZZls",
        "outputId": "379d1c84-edb8-40f4-cd26-377c0fb84c6f"
      },
      "execution_count": 39,
      "outputs": [
        {
          "output_type": "stream",
          "name": "stdout",
          "text": [
            "[' ', 'a', 'b', 'c', 'd', 'e', 'f', 'g', 'h', 'i', 'j', 'k', 'l', 'm', 'n', 'o', 'p', 'q', 'r', 's', 't', 'u', 'v', 'w', 'x', 'y', 'z']\n",
            "{' ': 1, 'a': 2, 'b': 3, 'c': 4, 'd': 5, 'e': 6, 'f': 7, 'g': 8, 'h': 9, 'i': 10, 'j': 11, 'k': 12, 'l': 13, 'm': 14, 'n': 15, 'o': 16, 'p': 17, 'q': 18, 'r': 19, 's': 20, 't': 21, 'u': 22, 'v': 23, 'w': 24, 'x': 25, 'y': 26, 'z': 27, '.': 0}\n",
            "{1: ' ', 2: 'a', 3: 'b', 4: 'c', 5: 'd', 6: 'e', 7: 'f', 8: 'g', 9: 'h', 10: 'i', 11: 'j', 12: 'k', 13: 'l', 14: 'm', 15: 'n', 16: 'o', 17: 'p', 18: 'q', 19: 'r', 20: 's', 21: 't', 22: 'u', 23: 'v', 24: 'w', 25: 'x', 26: 'y', 27: 'z', 0: '.'}\n",
            "torch.Size([9374, 3]) torch.Size([9374])\n",
            "torch.Size([1225, 3]) torch.Size([1225])\n",
            "torch.Size([1119, 3]) torch.Size([1119])\n"
          ]
        }
      ]
    },
    {
      "cell_type": "code",
      "source": [
        "\n",
        "g_en = torch.Generator().manual_seed(2147483647) # for reproducibility\n",
        "C_en = torch.randn((80, 10), generator=g_en) #create a random embedding matrix ' 80 rows and 10 columns\n",
        "W1_en = torch.randn((30, 200), generator=g_en) #take 30 values and map them to 200 neurons\n",
        "b1_en = torch.randn(200, generator=g_en) #add a 200 size vector to each neuron\n",
        "W2_en = torch.randn((200, 80), generator=g_en) #take 200 from first layer and maps to 80 outputs\n",
        "b2_en = torch.randn(80, generator=g_en) #add 80 size vactor\n",
        "parameters_en = [C_en, W1_en, b1_en, W2_en, b2_en] #grop the parameters into a list"
      ],
      "metadata": {
        "id": "EAA0_oigc13X"
      },
      "execution_count": 40,
      "outputs": []
    },
    {
      "cell_type": "code",
      "source": [
        "sum(p.nelement() for p in parameters_en) # number of parameters in total in english"
      ],
      "metadata": {
        "colab": {
          "base_uri": "https://localhost:8080/"
        },
        "id": "_HcVef6-c5S4",
        "outputId": "77313db2-2f2d-4a31-97a0-cfea5cf9827d"
      },
      "execution_count": 41,
      "outputs": [
        {
          "output_type": "execute_result",
          "data": {
            "text/plain": [
              "23080"
            ]
          },
          "metadata": {},
          "execution_count": 41
        }
      ]
    },
    {
      "cell_type": "code",
      "source": [
        "#track gradients\n",
        "for p in parameters_en:\n",
        "  p.requires_grad = True"
      ],
      "metadata": {
        "id": "coNBea1sc6tm"
      },
      "execution_count": 42,
      "outputs": []
    },
    {
      "cell_type": "code",
      "source": [
        "#create a range of learning rates\n",
        "lre = torch.linspace(-3, 0, 1000)\n",
        "lrs = 10**lre"
      ],
      "metadata": {
        "id": "nFWpAj_9c9Yr"
      },
      "execution_count": 43,
      "outputs": []
    },
    {
      "cell_type": "code",
      "source": [
        "#here are enpty lists to store:\n",
        "lri = [] #learning rate\n",
        "lossi = [] #loss values\n",
        "stepi = [] # traning steps"
      ],
      "metadata": {
        "id": "t2huuyTudBlF"
      },
      "execution_count": 44,
      "outputs": []
    },
    {
      "cell_type": "code",
      "source": [
        "for i in range(200000):\n",
        "    #  Sample a random mini-batch of 32 examples\n",
        "    ix = torch.randint(0, Xtr_en.shape[0], (32,))\n",
        "\n",
        "    # Forward pass\n",
        "    emb = C_en[Xtr_en[ix]]  # (32, 3, embedding_dim)\n",
        "    h = torch.tanh(emb.view(-1, 30) @ W1_en + b1_en)\n",
        "    logits = h @ W2_en + b2_en\n",
        "    loss = F.cross_entropy(logits, Ytr_en[ix])  # Cross-entropy loss\n",
        "\n",
        "    #  Backward pass (reset gradients, then compute new ones)\n",
        "    for p in parameters_en:\n",
        "        p.grad = None\n",
        "    loss.backward()\n",
        "\n",
        "    #  Update parameters (simple gradient descent)\n",
        "    lr = 0.1 if i < 100000 else 0.01\n",
        "    for p in parameters_en:\n",
        "        p.data -= lr * p.grad\n",
        "\n",
        "    # Track stats (for plotting/analysis)\n",
        "    stepi.append(i)\n",
        "    lossi.append(loss.log10().item())\n"
      ],
      "metadata": {
        "id": "QyGcQsWEMVAn"
      },
      "execution_count": 45,
      "outputs": []
    },
    {
      "cell_type": "code",
      "source": [
        "plt.plot(stepi, lossi)   # Plots the training loss over time (x-axis: stepi, y-axis: lossi)"
      ],
      "metadata": {
        "id": "ZBAYXZ_rdGIG",
        "colab": {
          "base_uri": "https://localhost:8080/",
          "height": 447
        },
        "outputId": "ade6e889-72de-4616-f136-e76a6c58d805"
      },
      "execution_count": 46,
      "outputs": [
        {
          "output_type": "execute_result",
          "data": {
            "text/plain": [
              "[<matplotlib.lines.Line2D at 0x7b85f0346910>]"
            ]
          },
          "metadata": {},
          "execution_count": 46
        },
        {
          "output_type": "display_data",
          "data": {
            "text/plain": [
              "<Figure size 640x480 with 1 Axes>"
            ],
            "image/png": "[encoded data removed]"
          },
          "metadata": {}
        }
      ]
    },
    {
      "cell_type": "code",
      "source": [
        "# training loss\n",
        "emb = C_en[Xtr_en] #retrive the embedding\n",
        "h = torch.tanh(emb.view(-1, 30) @ W1_en + b1_en) #linar transformation  and tanh activation\n",
        "logits = h @ W2_en + b2_en #complete logits\n",
        "loss = F.cross_entropy(logits, Ytr_en)  #crentropyoss\n",
        "loss #show the loss"
      ],
      "metadata": {
        "id": "ZlhYinNgdIVF",
        "colab": {
          "base_uri": "https://localhost:8080/"
        },
        "outputId": "4cabf161-089a-4ce1-d21d-75a81aea8ede"
      },
      "execution_count": 47,
      "outputs": [
        {
          "output_type": "execute_result",
          "data": {
            "text/plain": [
              "tensor(1.0071, grad_fn=<NllLossBackward0>)"
            ]
          },
          "metadata": {},
          "execution_count": 47
        }
      ]
    },
    {
      "cell_type": "code",
      "source": [
        "# validation loss\n",
        "emb = C_en[Xdev] # retrieve the embeddings\n",
        "h = torch.tanh(emb.view(-1, 30) @ W1_en + b1_en)  #linar transformation  and tanh activation\n",
        "logits = h @ W2_en + b2_en  #complete logits\n",
        "loss = F.cross_entropy(logits, Ydev)  #crentropyoss\n",
        "loss #show loss"
      ],
      "metadata": {
        "id": "cJH3DDu4dLTM",
        "colab": {
          "base_uri": "https://localhost:8080/"
        },
        "outputId": "f54968fc-7801-4dbb-88a6-e037b30746cc"
      },
      "execution_count": 48,
      "outputs": [
        {
          "output_type": "execute_result",
          "data": {
            "text/plain": [
              "tensor(2.8659, grad_fn=<NllLossBackward0>)"
            ]
          },
          "metadata": {},
          "execution_count": 48
        }
      ]
    },
    {
      "cell_type": "code",
      "source": [
        "# test loss\n",
        "emb = C_en[Xte] #  retrieve the embeddings\n",
        "h = torch.tanh(emb.view(-1, 30) @ W1_en + b1_en) # linar transformation  and tanh activation\n",
        "logits = h @ W2_en + b2_en #complete logits\n",
        "loss = F.cross_entropy(logits, Yte)  #crentropyoss\n",
        "loss #show loss"
      ],
      "metadata": {
        "id": "DwOgCg1vdNhe",
        "colab": {
          "base_uri": "https://localhost:8080/"
        },
        "outputId": "a9cd9504-9507-411c-baab-2bc31677d9b1"
      },
      "execution_count": 49,
      "outputs": [
        {
          "output_type": "execute_result",
          "data": {
            "text/plain": [
              "tensor(2.5703, grad_fn=<NllLossBackward0>)"
            ]
          },
          "metadata": {},
          "execution_count": 49
        }
      ]
    },
    {
      "cell_type": "code",
      "source": [
        "plt.figure(figsize=(8,8))  # Create an 8x8 figure\n",
        "\n",
        "for i in range(C_en.shape[0]):  # Loop over each row in C_en\n",
        "    letter = itos_en.get(i, \"\")  # Get the corresponding letter, defaulting to empty string\n",
        "    if letter in [\"\", \" \", \".\"]:  # Skip if letter is empty, space, or a period\n",
        "        continue\n",
        "\n",
        "    plt.scatter(C_en[i, 0].item(), C_en[i, 1].item(), s=200)  # Plot a point at the coordinates\n",
        "    plt.text(C_en[i, 0].item(), C_en[i, 1].item(), letter,\n",
        "             ha=\"center\", va=\"center\", color='white')  # Label the point with the letter\n",
        "\n",
        "plt.grid('minor')  # Add a minor grid\n",
        "plt.show()  # Display the plot\n"
      ],
      "metadata": {
        "colab": {
          "base_uri": "https://localhost:8080/",
          "height": 676
        },
        "id": "_qmPKBQnyEjT",
        "outputId": "b602c5e7-2263-4a7e-a865-4b998dfb93f9"
      },
      "execution_count": 51,
      "outputs": [
        {
          "output_type": "display_data",
          "data": {
            "text/plain": [
              "<Figure size 800x800 with 1 Axes>"
            ],
            "image/png": "[encoded data removed]"
          },
          "metadata": {}
        }
      ]
    },
    {
      "source": [
        "plt.plot(stepi, lossi)  # Plots the training loss over time (x-axis: stepi, y-axis: lossi)"
      ],
      "cell_type": "code",
      "metadata": {
        "colab": {
          "base_uri": "https://localhost:8080/",
          "height": 447
        },
        "id": "Fzp55WvBOnTB",
        "outputId": "43c54939-e96d-4f54-eee3-398ef0f0a07c"
      },
      "execution_count": 52,
      "outputs": [
        {
          "output_type": "execute_result",
          "data": {
            "text/plain": [
              "[<matplotlib.lines.Line2D at 0x7b85f07421d0>]"
            ]
          },
          "metadata": {},
          "execution_count": 52
        },
        {
          "output_type": "display_data",
          "data": {
            "text/plain": [
              "<Figure size 640x480 with 1 Axes>"
            ],
            "image/png": "[encoded data removed]"
          },
          "metadata": {}
        }
      ]
    },
    {
      "source": [
        "# sample from the model\n",
        "g = torch.Generator().manual_seed(2147483647 + 10) #set a random seed\n",
        "\n",
        "for _ in range(20): #generate 20 names\n",
        "\n",
        "    out = [] # make an empty list to store generated names\n",
        "    context = [0] * block_size # initialize with all zeros\n",
        "    while True: #keep generating\n",
        "      emb = C_en[torch.tensor([context])] # (retrieve the embeddings\n",
        "      h = torch.tanh(emb.view(1, -1) @ W1_en + b1_en) #comute hidden layer activation with tanh\n",
        "      logits = h @ W2_en + b2_en # compute final output layer\n",
        "      probs = F.softmax(logits, dim=1) #apply softmax\n",
        "      ix = torch.multinomial(probs, num_samples=1, generator=g).item() #sample the next character with the right probability\n",
        "      context = context[1:] + [ix] #update the context\n",
        "      out.append(ix) #store the charcter to outpot list\n",
        "      if ix == 0: #when reacing the stop token ,stop generating\n",
        "        break\n",
        "\n",
        "    # Handle unknown characters during name generation\n",
        "    print(''.join(itos_en.get(i, '<UNK>') for i in out)) # If i is not in itos_en, use '<UNK>' instead"
      ],
      "cell_type": "code",
      "metadata": {
        "colab": {
          "base_uri": "https://localhost:8080/"
        },
        "id": "AqQxWj5XzqyK",
        "outputId": "f261031f-728d-44c7-d50d-3b13ec3c0ef6"
      },
      "execution_count": 56,
      "outputs": [
        {
          "output_type": "stream",
          "name": "stdout",
          "text": [
            "asp.\n",
            "blue jay.\n",
            "dusky dolphiuma.\n",
            "bigmiever.\n",
            "spider.\n",
            "dog.\n",
            "gret.\n",
            "oo<UNK>astern beardvark.\n",
            "aspider beardeaux.\n",
            "cockher.\n",
            "binteat danian treetah.\n",
            "fiddlefishephanther.\n",
            "puma.\n",
            "tigerian elephant.\n",
            "tasmander.\n",
            "minkajou.\n",
            "dungle.\n",
            "euraselligator.\n",
            "fossum.\n",
            "elk.\n"
          ]
        }
      ]
    },
    {
      "cell_type": "markdown",
      "source": [
        "the spanish model"
      ],
      "metadata": {
        "id": "Z1Zu5SWvOINi"
      }
    },
    {
      "cell_type": "code",
      "source": [
        "import torch #import the library\n",
        "import torch.nn.functional as F #for functions such as loss coputation\n",
        "import matplotlib.pyplot as plt # for making figures\n",
        "%matplotlib inline"
      ],
      "metadata": {
        "id": "iwENKZS7dT_5"
      },
      "execution_count": 57,
      "outputs": []
    },
    {
      "cell_type": "code",
      "source": [
        "# download the names.txt file from github in Spanish\n",
        "!wget https://raw.githubusercontent.com/noakraler/animal_names.txt/refs/heads/main/animal_spanish.txt"
      ],
      "metadata": {
        "colab": {
          "base_uri": "https://localhost:8080/"
        },
        "id": "LWaB96fjOOYc",
        "outputId": "e53eac02-dd66-4b33-d9f9-e19af759fca5"
      },
      "execution_count": 58,
      "outputs": [
        {
          "output_type": "stream",
          "name": "stdout",
          "text": [
            "--2025-02-26 10:30:35--  https://raw.githubusercontent.com/noakraler/animal_names.txt/refs/heads/main/animal_spanish.txt\n",
            "Resolving raw.githubusercontent.com (raw.githubusercontent.com)... 185.199.108.133, 185.199.109.133, 185.199.110.133, ...\n",
            "Connecting to raw.githubusercontent.com (raw.githubusercontent.com)|185.199.108.133|:443... connected.\n",
            "HTTP request sent, awaiting response... 200 OK\n",
            "Length: 20488 (20K) [text/plain]\n",
            "Saving to: ‘animal_spanish.txt.1’\n",
            "\n",
            "\ranimal_spanish.txt.   0%[                    ]       0  --.-KB/s               \ranimal_spanish.txt. 100%[===================>]  20.01K  --.-KB/s    in 0.001s  \n",
            "\n",
            "2025-02-26 10:30:36 (36.8 MB/s) - ‘animal_spanish.txt.1’ saved [20488/20488]\n",
            "\n"
          ]
        }
      ]
    },
    {
      "source": [
        "words_sp = open('animal_spanish.txt', 'r').read().splitlines() # Opens a file named 'animal_spanish.txt' in read mode ('r'), reads its entire content, and splits it into a list of lines. Each line is stored as an element in the 'words_sp' list.\n",
        "words_sp = [word.replace(\"-\", \"\").replace(\"'\", \"\").replace(\",\",\" \") for word in words_sp] # Iterates through each word in the 'words_sp' list and removes hyphens, apostrophes, and replaces commas with spaces. The cleaned words are collected into a new list, which is assigned back to 'words_sp'.\n",
        "words_sp = [word.lower() for word in words_sp] # Converts all words in the 'words_sp' list to lowercase.\n",
        "words_sp[:8] # Displays the first 8 elements of the 'words_sp' list, likely for visual verification of the data."
      ],
      "cell_type": "code",
      "metadata": {
        "colab": {
          "base_uri": "https://localhost:8080/"
        },
        "id": "i2YlwYjvM9DL",
        "outputId": "0aabc020-17ba-44ec-e1ef-b59e4b084278"
      },
      "execution_count": 59,
      "outputs": [
        {
          "output_type": "execute_result",
          "data": {
            "text/plain": [
              "['abeja',\n",
              " 'águila',\n",
              " 'albatros',\n",
              " 'alce',\n",
              " 'almeja',\n",
              " 'anaconda',\n",
              " 'anguila',\n",
              " 'antílope']"
            ]
          },
          "metadata": {},
          "execution_count": 59
        }
      ]
    },
    {
      "cell_type": "code",
      "source": [
        "len(words_sp) #count words"
      ],
      "metadata": {
        "colab": {
          "base_uri": "https://localhost:8080/"
        },
        "id": "epgkMM2CORYZ",
        "outputId": "7432952d-2481-4c92-f792-423531326566"
      },
      "execution_count": 60,
      "outputs": [
        {
          "output_type": "execute_result",
          "data": {
            "text/plain": [
              "1052"
            ]
          },
          "metadata": {},
          "execution_count": 60
        }
      ]
    },
    {
      "cell_type": "code",
      "source": [
        "# build the vocabulary of characters and mappings to/from integers (SP)\n",
        "chars_sp = sorted(list(set(''.join(words_sp))))  #concatenates the words into a string, while organizing the characters into consisnt order\n",
        "stoi_sp = {s:i+1 for i,s in enumerate(chars_sp)}  #string to index\n",
        "stoi_sp['.'] = 0   #index to string\n",
        "itos_sp = {i:s for s,i in stoi_sp.items()}\n",
        "print(itos_sp)\n",
        "\n",
        "\n",
        "# build the dataset in Spanish\n",
        "block_size = 3 # context length\n",
        "def build_dataset(words_sp): #converts the list of words into dataset\n",
        "  X, Y = [], []\n",
        "  for w in words_sp:\n",
        "\n",
        "    context = [0] * block_size  #intializes a vector of length 3 into zeros\n",
        "    for ch in w + '.':    #adds a period in the end of words\n",
        "      ix = stoi_sp[ch]   #characters to numerical index\n",
        "      X.append(context)  #previous 3 characters\n",
        "      Y.append(ix)    #next characters\n",
        "\n",
        "      context = context[1:] + [ix] # crop and append\n",
        "\n",
        "#tensor data formeat\n",
        "  X = torch.tensor(X)\n",
        "  Y = torch.tensor(Y)\n",
        "  print(X.shape, Y.shape)\n",
        "  return X, Y  #return to dateset\n",
        "\n",
        "\n",
        "import random\n",
        "random.seed(42)  #make sure the the random shuffle is consistent\n",
        "random.shuffle(words_sp)\n",
        "n1 = int(0.8*len(words_sp))  #for training\n",
        "n2 = int(0.9*len(words_sp))   #for validation\n",
        "\n",
        "Xtr_sp, Ytr_sp = build_dataset(words_sp[:n1])  # Define Xtr_en, Ytr_en - convert to numerical -traning set\n",
        "Xdev_sp, Ydev_sp = build_dataset(words_sp[n1:n2])  #validation set\n",
        "Xte_sp, Yte_sp = build_dataset(words_sp[n2:])    #test set\n",
        "\n",
        "\n",
        "#Add handling for unknown characters\n",
        "max_index_in_Xtr_sp  = torch.max(Xtr_sp) # find the biggest index\n",
        "if max_index_in_Xtr_sp >= len(stoi_sp): #find any character not in vocabulary\n",
        "\n",
        "    print(f\"Warning: Xtr_sp contains indices greater than vocabulary size. Max index in Xtr: {max_index_in_Xtr_sp}, Vocabulary size: {len(stoi_sp)}\")\n",
        "    # Option 1: Replace unknown indices with a special token (e.g., 0 for unknown)\n",
        "    Xtr_sp[Xtr_sp >= len(stoi_sp)] = 0 ## replace unknown characters with a special token\n",
        "\n",
        "\n",
        "\n"
      ],
      "metadata": {
        "colab": {
          "base_uri": "https://localhost:8080/"
        },
        "id": "OxkpTSz_VX9D",
        "outputId": "cee23cb1-e488-48f2-9933-7603a9d0fa1c"
      },
      "execution_count": 61,
      "outputs": [
        {
          "output_type": "stream",
          "name": "stdout",
          "text": [
            "{1: ' ', 2: 'a', 3: 'b', 4: 'c', 5: 'd', 6: 'e', 7: 'f', 8: 'g', 9: 'h', 10: 'i', 11: 'j', 12: 'k', 13: 'l', 14: 'm', 15: 'n', 16: 'o', 17: 'p', 18: 'q', 19: 'r', 20: 's', 21: 't', 22: 'u', 23: 'v', 24: 'w', 25: 'x', 26: 'y', 27: 'z', 28: 'á', 29: 'é', 30: 'í', 31: 'ñ', 32: 'ó', 33: 'ú', 34: 'ü', 0: '.'}\n",
            "torch.Size([16046, 3]) torch.Size([16046])\n",
            "torch.Size([2079, 3]) torch.Size([2079])\n",
            "torch.Size([1905, 3]) torch.Size([1905])\n"
          ]
        }
      ]
    },
    {
      "cell_type": "code",
      "source": [
        "# build the dataset\n",
        "\n",
        "block_size = 3  # The model will consider the previous 3 characters to predict the next one\n",
        "\n",
        "# Function to build the dataset (X: input, Y: target)\n",
        "def build_dataset(words_sp):\n",
        "  X, Y = [], []  # Initialize empty lists for input and target\n",
        "  for w in words_sp:  # Iterate through each word\n",
        "    context = [0] * block_size  # Initialize the context window with zeros (beginning of word)\n",
        "    for ch in w + '.':  # Iterate through each character in the word (plus a period at the end)\n",
        "      ix = stoi_sp[ch]  # Get the index of the current character\n",
        "      X.append(context)  # Add the current context to the input list\n",
        "      Y.append(ix)  # Add the index of the next character to the target list\n",
        "      context = context[1:] + [ix]  # Update the context window (shift and add current character)\n",
        "\n",
        "  X = torch.tensor(X)  # Convert the input list to a PyTorch tensor\n",
        "  Y = torch.tensor(Y)  # Convert the target list to a PyTorch tensor\n",
        "  print(X.shape, Y.shape)  # Print the shapes of the tensors\n",
        "  return X, Y  # Return the input and target tensors\n",
        "\n",
        "\n",
        "# Set a random seed for reproducibility\n",
        "random.seed(42)\n",
        "random.shuffle(words_sp)  # Shuffle the words randomly\n",
        "\n",
        "# Calculate indices to split the data into training, validation, and test sets\n",
        "n1 = int(0.8*len(words_sp))  # 80% for training\n",
        "n2 = int(0.9*len(words_sp))  # 10% for validation, 10% for testing\n",
        "\n",
        "# Create the datasets\n",
        "Xtr_sp, Ytr_sp = build_dataset(words_sp[:n1])  # Training set\n",
        "Xdev_sp, Ydev_sp = build_dataset(words_sp[n1:n2])  # Validation set\n",
        "Xte_sp, Yte_sp = build_dataset(words_sp[n2:])  # Test set"
      ],
      "metadata": {
        "colab": {
          "base_uri": "https://localhost:8080/"
        },
        "id": "IjhLWIjPN1v1",
        "outputId": "eddcad4b-cea0-4869-c34b-8ddbbba90d11"
      },
      "execution_count": 62,
      "outputs": [
        {
          "output_type": "stream",
          "name": "stdout",
          "text": [
            "torch.Size([15795, 3]) torch.Size([15795])\n",
            "torch.Size([2114, 3]) torch.Size([2114])\n",
            "torch.Size([2121, 3]) torch.Size([2121])\n"
          ]
        }
      ]
    },
    {
      "cell_type": "code",
      "source": [
        "g_sp = torch.Generator().manual_seed(2147483647) # for reproducibility\n",
        "C_sp = torch.randn((80, 10), generator=g_sp) #create a random embedding matrix ' 80 rows and 10 columns\n",
        "W1_sp = torch.randn((30, 200), generator=g_sp) #take 30 values and map them to 200 neurons\n",
        "b1_sp = torch.randn(200, generator=g_sp)  #add a 200 size vector to each neuron\n",
        "W2_sp = torch.randn((200, 80), generator=g_sp) #take 200 from first layer and maps to 80 outputs\n",
        "b2_sp = torch.randn(80, generator=g_sp)  #add 80 size vactor\n",
        "parameters_sp = [C_sp, W1_sp, b1_sp, W2_sp, b2_sp]  #grop the parameters into a list"
      ],
      "metadata": {
        "id": "DildLMe_Oa7H"
      },
      "execution_count": 63,
      "outputs": []
    },
    {
      "cell_type": "code",
      "source": [
        "sum(p.nelement() for p in parameters_sp) # number of parameters in total in spanish"
      ],
      "metadata": {
        "colab": {
          "base_uri": "https://localhost:8080/"
        },
        "id": "9E74juS9OeKA",
        "outputId": "fbf302ee-bd6b-464a-d1d9-2cc85d263987"
      },
      "execution_count": 64,
      "outputs": [
        {
          "output_type": "execute_result",
          "data": {
            "text/plain": [
              "23080"
            ]
          },
          "metadata": {},
          "execution_count": 64
        }
      ]
    },
    {
      "cell_type": "code",
      "source": [
        "#track gradients\n",
        "for p in parameters_sp:\n",
        "  p.requires_grad = True"
      ],
      "metadata": {
        "id": "ACw_rpdZOf8Q"
      },
      "execution_count": 65,
      "outputs": []
    },
    {
      "cell_type": "code",
      "source": [
        "# empty lists to store:\n",
        "\n",
        "lri = [] #learning rate\n",
        "lossi = [] #loss values\n",
        "stepi = []# traning steps"
      ],
      "metadata": {
        "id": "NIzF0vMvOhlz"
      },
      "execution_count": 78,
      "outputs": []
    },
    {
      "cell_type": "code",
      "source": [
        "for i in range(200000):\n",
        "\n",
        "  # minibatch construct\n",
        "  ix = torch.randint(0, Xtr_sp.shape[0], (32,))\n",
        "\n",
        "  # forward pass\n",
        "  emb = C_sp[Xtr_sp[ix]]\n",
        "  h = torch.tanh(emb.view(-1, 30) @ W1_sp + b1_sp)\n",
        "  logits = h @ W2_sp + b2_sp\n",
        "  loss = F.cross_entropy(logits, Ytr_sp[ix])\n",
        "\n",
        "  # backward pass\n",
        "  for p in parameters_sp:\n",
        "    p.grad = None\n",
        "  loss.backward()\n",
        "\n",
        "\n",
        "  #lr = lrs[i]\n",
        "  lr = 0.1 if i < 100000 else 0.01\n",
        "  for p in parameters_sp:\n",
        "    p.data += -lr * p.grad\n",
        "\n",
        "  stepi.append(i)\n",
        "  lossi.append(loss.log10().item())\n",
        "\n"
      ],
      "metadata": {
        "id": "PfL-5jPvOjvg"
      },
      "execution_count": 67,
      "outputs": []
    },
    {
      "cell_type": "code",
      "source": [
        "plt.plot(stepi, lossi)"
      ],
      "metadata": {
        "id": "fPmSZWi2Ol6D",
        "colab": {
          "base_uri": "https://localhost:8080/",
          "height": 447
        },
        "outputId": "59a4e126-3185-483a-bfa6-d5ac9906f666"
      },
      "execution_count": 68,
      "outputs": [
        {
          "output_type": "execute_result",
          "data": {
            "text/plain": [
              "[<matplotlib.lines.Line2D at 0x7b85ed9c8090>]"
            ]
          },
          "metadata": {},
          "execution_count": 68
        },
        {
          "output_type": "display_data",
          "data": {
            "text/plain": [
              "<Figure size 640x480 with 1 Axes>"
            ],
            "image/png": "[encoded data removed]"
          },
          "metadata": {}
        }
      ]
    },
    {
      "cell_type": "code",
      "source": [
        "# training loss\n",
        "emb = C_sp[Xtr_sp] ##retrive the embedding\n",
        "h = torch.tanh(emb.view(-1, 30) @ W1_sp + b1_sp) #linar transformation  and tanh activation\n",
        "logits = h @ W2_sp + b2_sp # (32, 27) #complete logits\n",
        "loss = F.cross_entropy(logits, Ytr_sp) #crentropyoss\n",
        "loss #show the loss"
      ],
      "metadata": {
        "id": "LqTyhj-BOpAP",
        "colab": {
          "base_uri": "https://localhost:8080/"
        },
        "outputId": "d1966fa6-97da-430e-8c4f-878924509faa"
      },
      "execution_count": 69,
      "outputs": [
        {
          "output_type": "execute_result",
          "data": {
            "text/plain": [
              "tensor(0.7783, grad_fn=<NllLossBackward0>)"
            ]
          },
          "metadata": {},
          "execution_count": 69
        }
      ]
    },
    {
      "cell_type": "code",
      "source": [
        " #validation loss\n",
        "emb = C_sp[Xdev_sp] # retrieve the embeddings\n",
        "h = torch.tanh(emb.view(-1, 30) @ W1_sp + b1_sp)  #linar transformation  and tanh activation\n",
        "logits = h @ W2_sp + b2_sp  #complete logits\n",
        "loss = F.cross_entropy(logits, Ydev_sp)  #crentropyoss\n",
        "loss #show loss"
      ],
      "metadata": {
        "id": "Mysxr0v9lAmV",
        "colab": {
          "base_uri": "https://localhost:8080/"
        },
        "outputId": "041ae0e8-20b1-4dc0-e67c-93d49c3a41ec"
      },
      "execution_count": 70,
      "outputs": [
        {
          "output_type": "execute_result",
          "data": {
            "text/plain": [
              "tensor(1.4323, grad_fn=<NllLossBackward0>)"
            ]
          },
          "metadata": {},
          "execution_count": 70
        }
      ]
    },
    {
      "cell_type": "code",
      "source": [
        "# test loss\n",
        "emb = C_sp[Xte_sp] #  retrieve the embeddings\n",
        "h = torch.tanh(emb.view(-1, 30) @ W1_sp + b1_sp) # linar transformation  and tanh activation\n",
        "logits = h @ W2_sp + b2_sp #complete logits\n",
        "loss = F.cross_entropy(logits, Yte_sp)  #crentropyoss\n",
        "loss #show loss"
      ],
      "metadata": {
        "id": "RrlIC15PlECl",
        "colab": {
          "base_uri": "https://localhost:8080/"
        },
        "outputId": "d28811ae-fb87-439c-f23e-39c2fe203480"
      },
      "execution_count": 71,
      "outputs": [
        {
          "output_type": "execute_result",
          "data": {
            "text/plain": [
              "tensor(1.4511, grad_fn=<NllLossBackward0>)"
            ]
          },
          "metadata": {},
          "execution_count": 71
        }
      ]
    },
    {
      "cell_type": "code",
      "source": [
        "print(\"Characters in stoi_sp:\", stoi_sp) # check the character-to-index mapping\n"
      ],
      "metadata": {
        "id": "qoiyj92qOyof",
        "colab": {
          "base_uri": "https://localhost:8080/"
        },
        "outputId": "1d0d0f16-ae91-477b-b5e4-69115c601655"
      },
      "execution_count": 72,
      "outputs": [
        {
          "output_type": "stream",
          "name": "stdout",
          "text": [
            "Characters in stoi_sp: {' ': 1, 'a': 2, 'b': 3, 'c': 4, 'd': 5, 'e': 6, 'f': 7, 'g': 8, 'h': 9, 'i': 10, 'j': 11, 'k': 12, 'l': 13, 'm': 14, 'n': 15, 'o': 16, 'p': 17, 'q': 18, 'r': 19, 's': 20, 't': 21, 'u': 22, 'v': 23, 'w': 24, 'x': 25, 'y': 26, 'z': 27, 'á': 28, 'é': 29, 'í': 30, 'ñ': 31, 'ó': 32, 'ú': 33, 'ü': 34, '.': 0}\n"
          ]
        }
      ]
    },
    {
      "cell_type": "code",
      "source": [
        "# Check for missing indices in the Spanish character mapping (itos_sp)\n",
        "missing_chars = []  # List to store indices that are not present in itos_sp\n",
        "\n",
        "# Loop through every possible index based on the Spanish embedding matrix dimensions\n",
        "for i in range(C_sp.shape[0]):\n",
        "    # If an index is missing in the mapping, add it to missing_chars\n",
        "    if i not in itos_sp:\n",
        "        missing_chars.append(i)\n",
        "\n",
        "# Print out the missing indices for debugging purposes\n",
        "print(\"Missing characters in itos_sp:\", missing_chars)\n"
      ],
      "metadata": {
        "colab": {
          "base_uri": "https://localhost:8080/"
        },
        "id": "9y_ICaYCQuuk",
        "outputId": "600033c7-ac88-4833-c0a4-2148dea6aad1"
      },
      "execution_count": 73,
      "outputs": [
        {
          "output_type": "stream",
          "name": "stdout",
          "text": [
            "Missing characters in itos_sp: [35, 36, 37, 38, 39, 40, 41, 42, 43, 44, 45, 46, 47, 48, 49, 50, 51, 52, 53, 54, 55, 56, 57, 58, 59, 60, 61, 62, 63, 64, 65, 66, 67, 68, 69, 70, 71, 72, 73, 74, 75, 76, 77, 78, 79]\n"
          ]
        }
      ]
    },
    {
      "cell_type": "code",
      "source": [
        "# adding the missing characters\n",
        "missing_chars = [35, 36, 37, 38, 39, 40, 41, 42, 43, 44, 45, 46, 47, 48, 49, 50, 51, 52, 53, 54, 55, 56, 57, 58, 59, 60, 61]\n",
        "\n",
        "for char_index in missing_chars:\n",
        "    itos_sp[char_index] = \"?\"  # adding general sign to unknown characters"
      ],
      "metadata": {
        "id": "o661LHqsUbJ_"
      },
      "execution_count": 74,
      "outputs": []
    },
    {
      "cell_type": "code",
      "source": [
        "plt.figure(figsize=(8,8))  # Create a figure with size 8x8 inches\n",
        "\n",
        "for i in range(C_sp.shape[0]):  # Iterate over each row in C_sp\n",
        "    letter = itos_sp.get(i, \"\")  # Get the corresponding letter; if none, use an empty string\n",
        "\n",
        "    letter = letter.replace(\"?\", \"\")  # Remove any question marks from the letter\n",
        "\n",
        "    # If the letter is empty, a space, or just a period, skip it\n",
        "    if letter in [\"\", \" \", \".\"]:\n",
        "        continue\n",
        "\n",
        "    # Plot a point at the (x, y) coordinates in C_sp for the current row\n",
        "    plt.scatter(C_sp[i, 0].item(), C_sp[i, 1].item(), s=200)\n",
        "\n",
        "    # Place the letter text at the same coordinates, centered horizontally and vertically, in white\n",
        "    plt.text(C_sp[i, 0].item(), C_sp[i, 1].item(),\n",
        "             letter,\n",
        "             ha=\"center\", va=\"center\", color='white')\n",
        "\n",
        "plt.grid('minor')  # Add minor grid lines to the plot\n",
        "plt.show()  # Display the plot\n"
      ],
      "metadata": {
        "colab": {
          "base_uri": "https://localhost:8080/",
          "height": 676
        },
        "id": "BrWUh2mu0IO7",
        "outputId": "eab676f7-b04b-41eb-be51-8d26342c72b9"
      },
      "execution_count": 79,
      "outputs": [
        {
          "output_type": "display_data",
          "data": {
            "text/plain": [
              "<Figure size 800x800 with 1 Axes>"
            ],
            "image/png": "[encoded data removed]"
          },
          "metadata": {}
        }
      ]
    },
    {
      "cell_type": "code",
      "source": [
        "# sample from the model\n",
        "g = torch.Generator().manual_seed(2147483647 + 10) #set a random seed\n",
        "\n",
        "for _ in range(20):  #generate  names\n",
        "\n",
        "    out = [] # make an empty list to store generated names\n",
        "    context = [0] * block_size ## initialize with all zeros\n",
        "    while True: #keep generating\n",
        "      emb = C_sp[torch.tensor([context])] # retrieve the embeddings\n",
        "      h = torch.tanh(emb.view(1, -1) @ W1_sp + b1_sp) #compute hidden layer activation with tanh\n",
        "      logits = h @ W2_sp + b2_sp  # compute final output layer\n",
        "      probs = F.softmax(logits, dim=1) #apply softmax\n",
        "      ix = torch.multinomial(probs, num_samples=1, generator=g).item() #sample the next character with the right probability\n",
        "      context = context[1:] + [ix] #update the context\n",
        "      out.append(ix)  #store the charcter to outpot list\n",
        "      if ix == 0:  #when reacing the stop token ,stop generating\n",
        "        break\n",
        "\n",
        "    print(''.join(itos_sp[i] for i in out))"
      ],
      "metadata": {
        "id": "C0VdpsKIO6HA",
        "colab": {
          "base_uri": "https://localhost:8080/"
        },
        "outputId": "37f8fb81-f4ac-41e0-ee51-cc2d7a0852e7"
      },
      "execution_count": 80,
      "outputs": [
        {
          "output_type": "stream",
          "name": "stdout",
          "text": [
            "anguila minodimensional.\n",
            "araña paipárino.\n",
            "cigante.\n",
            "halo onistadoraldimensionastruenodimensional.\n",
            "cotorde.\n",
            "bicho zigzagueo nebulón de limónico gra.\n",
            "angre japonegra.\n",
            "bicho zigzagueo inte.\n",
            "cotorrita nebuloso.\n",
            "cernícanacolos borestial.\n",
            "agueo ámbarritán.\n",
            "cotorrita.\n",
            "cisne roso.\n",
            "cisne negro.\n",
            "escupido.\n",
            "bicho zigzagueo volado.\n",
            "col gigar.\n",
            "ballo.\n",
            "atún del amayónges.\n",
            "bicho zigzagueo volcánico unives.\n"
          ]
        }
      ]
    },
    {
      "cell_type": "markdown",
      "source": [
        "part two\n",
        "after buliding  and traning the two models in english and spanish to learn  the strecure and patterns of each language, the next step is to eveluate id they can apply the rules they learned in one language and generated words in the other language.this stap will test the models ability to transfer linguistics knowledge between languages\n"
      ],
      "metadata": {
        "id": "17QzK3jLbvar"
      }
    },
    {
      "source": [
        "def evaluate_model(X, Y, C, W1, b1, W2, b2): # take different parameters and caculated the loss for the dataset : x-input data , y- targat data ,c- embadding matrix, w1+b1-first layer, w2+b2- second layer\n",
        "\n",
        "    emb = C[X] # retrieved the character embedding  for x from c\n",
        "    h = torch.tanh(emb.view(-1, 30) @ W1 + b1) # to make the embedding go trough to first layer\n",
        "    logits = h @ W2 + b2 # h(transfered data) is passed through the second layer\n",
        "    loss = F.cross_entropy(logits, Y) #compute loss between logits and Y\n",
        "    return loss #returen evaluation of loss\n",
        "#eveluating english model on english data\n",
        "loss_en = evaluate_model(Xtr_en, Ytr_en, C_en, W1_en, b1_en, W2_en, b2_en) # caculate the loss of english model on english data\n",
        "print(f\"Evaluating English model loss on English data: {loss_en}\")\n",
        "\n",
        "#eveluating spanish model on spanish data\n",
        "loss_sp = evaluate_model(Xtr_sp, Ytr_sp, C_sp, W1_sp, b1_sp, W2_sp, b2_sp) # caculate the loss of spanish  model on spanish data\n",
        "print(f\"Evaluating Spanish model loss on Spanish data: {loss_sp}\")"
      ],
      "cell_type": "code",
      "metadata": {
        "id": "nVj-DuUZdYQF",
        "colab": {
          "base_uri": "https://localhost:8080/"
        },
        "outputId": "f89097b4-d0b3-4ea2-dff9-f813bc323995"
      },
      "execution_count": 81,
      "outputs": [
        {
          "output_type": "stream",
          "name": "stdout",
          "text": [
            "Evaluating English model loss on English data: 1.0071405172348022\n",
            "Evaluating Spanish model loss on Spanish data: 0.7783129811286926\n"
          ]
        }
      ]
    },
    {
      "cell_type": "code",
      "source": [
        "#eveluating english model on spanish data\n",
        "loss_en_on_sp = evaluate_model(Xtr_sp, Ytr_sp, C_en, W1_en, b1_en, W2_en, b2_en) # caculate the loss of english model on spanish  data\n",
        "print(f\"Evaluating English model loss on Spanish data: {loss_en_on_sp}\")\n",
        "\n",
        "#eveluating spanish model on english  data\n",
        "loss_sp_on_en = evaluate_model(Xtr_en, Ytr_en, C_sp, W1_sp, b1_sp, W2_sp, b2_sp) # caculate the loss of spanish model on english data\n",
        "print(f\"Evaluating Spanish model loss on English data: {loss_sp_on_en}\")\n"
      ],
      "metadata": {
        "id": "kWqMBhZ9b02P",
        "colab": {
          "base_uri": "https://localhost:8080/"
        },
        "outputId": "8a155533-1188-405c-d86c-768da35b54e5"
      },
      "execution_count": 82,
      "outputs": [
        {
          "output_type": "stream",
          "name": "stdout",
          "text": [
            "Evaluating English model loss on Spanish data: 9.177797317504883\n",
            "Evaluating Spanish model loss on English data: 8.163227081298828\n"
          ]
        }
      ]
    },
    {
      "cell_type": "code",
      "source": [
        "import torch  # Import PyTorch library\n",
        "import torch.nn.functional as F  # Import PyTorch's neural network functions\n",
        "\n",
        "def generate_names(C, W1, b1, W2, b2, itos, num_names=10, block_size=3):\n",
        "    # Create a random generator with a fixed seed for reproducibility\n",
        "    g = torch.Generator().manual_seed(2147483647 + 10)\n",
        "    generated_names = []  # List to store the generated names\n",
        "\n",
        "    for _ in range(num_names):\n",
        "        out = []  # List to store the output indices for the current name\n",
        "        context = [0] * block_size  # Initialize the context with zeros (start tokens)\n",
        "        while True:\n",
        "            # Retrieve embeddings for the current context; result shape: (1, block_size, embedding_dim)\n",
        "            emb = C[torch.tensor([context])]\n",
        "            # Flatten the embeddings and compute the hidden layer activation with tanh\n",
        "            h = torch.tanh(emb.view(1, -1) @ W1 + b1)\n",
        "            # Compute output logits from the hidden layer\n",
        "            logits = h @ W2 + b2\n",
        "            # Convert logits to probabilities using softmax\n",
        "            probs = F.softmax(logits, dim=1)\n",
        "            # Sample an index from the probability distribution\n",
        "            ix = torch.multinomial(probs, num_samples=1, generator=g).item()\n",
        "            # Update the context by removing the oldest index and adding the new one\n",
        "            context = context[1:] + [ix]\n",
        "            out.append(ix)  # Append the sampled index to the output sequence\n",
        "            # Stop if the sampled index is 0 (assumed to be the end-of-name token)\n",
        "            if ix == 0:\n",
        "                break\n",
        "\n",
        "        # Convert the sequence of indices into characters and join them to form the name\n",
        "        generated_names.append(''.join(itos[i] for i in out))\n",
        "\n",
        "    return generated_names  # Return the list of generated names\n"
      ],
      "metadata": {
        "id": "_SmU9XdfQWfD"
      },
      "execution_count": 83,
      "outputs": []
    },
    {
      "source": [
        "# in this part we can see the generated names since they are generated only from the \"itos_sp' that inculde all the characters\n",
        "print(\"Generating Spanish names with English model...\")\n",
        "generate_names(C_en, W1_en, b1_en, W2_en, b2_en, itos_sp, num_names=10) # Using itos_sp for Spanish names\n",
        "\n",
        "\n",
        "print(\"Generating English names with Spanish model...\")\n",
        "generate_names(C_sp, W1_sp, b1_sp, W2_sp, b2_sp, itos_sp, num_names=10) # Using itos_sp, not itos_en"
      ],
      "cell_type": "code",
      "metadata": {
        "colab": {
          "base_uri": "https://localhost:8080/"
        },
        "id": "qOvhTSFtCWZj",
        "outputId": "1932efc1-a46a-4ea2-a69d-70ff6884dd23"
      },
      "execution_count": 84,
      "outputs": [
        {
          "output_type": "stream",
          "name": "stdout",
          "text": [
            "Generating Spanish names with English model...\n",
            "Generating English names with Spanish model...\n"
          ]
        },
        {
          "output_type": "execute_result",
          "data": {
            "text/plain": [
              "['anguila minodimensional.',\n",
              " 'araña paipárino.',\n",
              " 'cigante.',\n",
              " 'halo onistadoraldimensionastruenodimensional.',\n",
              " 'cotorde.',\n",
              " 'bicho zigzagueo nebulón de limónico gra.',\n",
              " 'angre japonegra.',\n",
              " 'bicho zigzagueo inte.',\n",
              " 'cotorrita nebuloso.',\n",
              " 'cernícanacolos borestial.']"
            ]
          },
          "metadata": {},
          "execution_count": 84
        }
      ]
    },
    {
      "cell_type": "code",
      "source": [
        "# Attempt to generate Spanish names using the English model, and vice versa.\n",
        "# Note: Since the English model's character mapping (itos_en) does not include certain Spanish characters,\n",
        "# generating Spanish names with the English model (using itos_sp) is expected to fail.\n",
        "print(\"Generating Spanish names with English model...\")\n",
        "generate_names(C_en, W1_en, b1_en, W2_en, b2_en, itos_sp, num_names=10)  # Using the Spanish mapping for names\n",
        "\n",
        "# Attempt to generate English names with the Spanish model.\n",
        "# This line is expected to throw an error because the Spanish model's mapping includes characters\n",
        "# that are missing in the English mapping (itos_en).\n",
        "print(\"Generating English names with Spanish model...\")\n",
        "generate_names(C_sp, W1_sp, b1_sp, W2_sp, b2_sp, itos_en, num_names=10)\n"
      ],
      "metadata": {
        "colab": {
          "base_uri": "https://localhost:8080/",
          "height": 356
        },
        "id": "46tDxB6wQgyE",
        "outputId": "63c06b0d-436f-44e1-fd7c-68f4f52867b6"
      },
      "execution_count": 85,
      "outputs": [
        {
          "output_type": "stream",
          "name": "stdout",
          "text": [
            "Generating Spanish names with English model...\n",
            "Generating English names with Spanish model...\n"
          ]
        },
        {
          "output_type": "error",
          "ename": "KeyError",
          "evalue": "31",
          "traceback": [
            "\u001b[0;31m---------------------------------------------------------------------------\u001b[0m",
            "\u001b[0;31mKeyError\u001b[0m                                  Traceback (most recent call last)",
            "\u001b[0;32m<ipython-input-85-959519bf8718>\u001b[0m in \u001b[0;36m<cell line: 0>\u001b[0;34m()\u001b[0m\n\u001b[1;32m      9\u001b[0m \u001b[0;31m# that are missing in the English mapping (itos_en).\u001b[0m\u001b[0;34m\u001b[0m\u001b[0;34m\u001b[0m\u001b[0m\n\u001b[1;32m     10\u001b[0m \u001b[0mprint\u001b[0m\u001b[0;34m(\u001b[0m\u001b[0;34m\"Generating English names with Spanish model...\"\u001b[0m\u001b[0;34m)\u001b[0m\u001b[0;34m\u001b[0m\u001b[0;34m\u001b[0m\u001b[0m\n\u001b[0;32m---> 11\u001b[0;31m \u001b[0mgenerate_names\u001b[0m\u001b[0;34m(\u001b[0m\u001b[0mC_sp\u001b[0m\u001b[0;34m,\u001b[0m \u001b[0mW1_sp\u001b[0m\u001b[0;34m,\u001b[0m \u001b[0mb1_sp\u001b[0m\u001b[0;34m,\u001b[0m \u001b[0mW2_sp\u001b[0m\u001b[0;34m,\u001b[0m \u001b[0mb2_sp\u001b[0m\u001b[0;34m,\u001b[0m \u001b[0mitos_en\u001b[0m\u001b[0;34m,\u001b[0m \u001b[0mnum_names\u001b[0m\u001b[0;34m=\u001b[0m\u001b[0;36m10\u001b[0m\u001b[0;34m)\u001b[0m\u001b[0;34m\u001b[0m\u001b[0;34m\u001b[0m\u001b[0m\n\u001b[0m",
            "\u001b[0;32m<ipython-input-83-0520e246cf87>\u001b[0m in \u001b[0;36mgenerate_names\u001b[0;34m(C, W1, b1, W2, b2, itos, num_names, block_size)\u001b[0m\n\u001b[1;32m     29\u001b[0m \u001b[0;34m\u001b[0m\u001b[0m\n\u001b[1;32m     30\u001b[0m         \u001b[0;31m# Convert the sequence of indices into characters and join them to form the name\u001b[0m\u001b[0;34m\u001b[0m\u001b[0;34m\u001b[0m\u001b[0m\n\u001b[0;32m---> 31\u001b[0;31m         \u001b[0mgenerated_names\u001b[0m\u001b[0;34m.\u001b[0m\u001b[0mappend\u001b[0m\u001b[0;34m(\u001b[0m\u001b[0;34m''\u001b[0m\u001b[0;34m.\u001b[0m\u001b[0mjoin\u001b[0m\u001b[0;34m(\u001b[0m\u001b[0mitos\u001b[0m\u001b[0;34m[\u001b[0m\u001b[0mi\u001b[0m\u001b[0;34m]\u001b[0m \u001b[0;32mfor\u001b[0m \u001b[0mi\u001b[0m \u001b[0;32min\u001b[0m \u001b[0mout\u001b[0m\u001b[0;34m)\u001b[0m\u001b[0;34m)\u001b[0m\u001b[0;34m\u001b[0m\u001b[0;34m\u001b[0m\u001b[0m\n\u001b[0m\u001b[1;32m     32\u001b[0m \u001b[0;34m\u001b[0m\u001b[0m\n\u001b[1;32m     33\u001b[0m     \u001b[0;32mreturn\u001b[0m \u001b[0mgenerated_names\u001b[0m  \u001b[0;31m# Return the list of generated names\u001b[0m\u001b[0;34m\u001b[0m\u001b[0;34m\u001b[0m\u001b[0m\n",
            "\u001b[0;32m<ipython-input-83-0520e246cf87>\u001b[0m in \u001b[0;36m<genexpr>\u001b[0;34m(.0)\u001b[0m\n\u001b[1;32m     29\u001b[0m \u001b[0;34m\u001b[0m\u001b[0m\n\u001b[1;32m     30\u001b[0m         \u001b[0;31m# Convert the sequence of indices into characters and join them to form the name\u001b[0m\u001b[0;34m\u001b[0m\u001b[0;34m\u001b[0m\u001b[0m\n\u001b[0;32m---> 31\u001b[0;31m         \u001b[0mgenerated_names\u001b[0m\u001b[0;34m.\u001b[0m\u001b[0mappend\u001b[0m\u001b[0;34m(\u001b[0m\u001b[0;34m''\u001b[0m\u001b[0;34m.\u001b[0m\u001b[0mjoin\u001b[0m\u001b[0;34m(\u001b[0m\u001b[0mitos\u001b[0m\u001b[0;34m[\u001b[0m\u001b[0mi\u001b[0m\u001b[0;34m]\u001b[0m \u001b[0;32mfor\u001b[0m \u001b[0mi\u001b[0m \u001b[0;32min\u001b[0m \u001b[0mout\u001b[0m\u001b[0;34m)\u001b[0m\u001b[0;34m)\u001b[0m\u001b[0;34m\u001b[0m\u001b[0;34m\u001b[0m\u001b[0m\n\u001b[0m\u001b[1;32m     32\u001b[0m \u001b[0;34m\u001b[0m\u001b[0m\n\u001b[1;32m     33\u001b[0m     \u001b[0;32mreturn\u001b[0m \u001b[0mgenerated_names\u001b[0m  \u001b[0;31m# Return the list of generated names\u001b[0m\u001b[0;34m\u001b[0m\u001b[0;34m\u001b[0m\u001b[0m\n",
            "\u001b[0;31mKeyError\u001b[0m: 31"
          ]
        }
      ]
    },
    {
      "cell_type": "code",
      "source": [],
      "metadata": {
        "id": "y92SgQelU2B-"
      },
      "execution_count": null,
      "outputs": []
    }
  ]
}