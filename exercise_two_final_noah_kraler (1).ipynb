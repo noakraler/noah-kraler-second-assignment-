{
  "nbformat": 4,
  "nbformat_minor": 0,
  "metadata": {
    "colab": {
      "provenance": []
    },
    "kernelspec": {
      "name": "python3",
      "display_name": "Python 3"
    },
    "language_info": {
      "name": "python"
    }
  },
  "cells": [
    {
      "cell_type": "code",
      "execution_count": 2,
      "metadata": {
        "id": "vowXRstocd8F"
      },
      "outputs": [],
      "source": [
        "import torch #import the library\n",
        "import torch.nn.functional as F #for functions such as loss coputation\n",
        "import matplotlib.pyplot as plt #for making figures\n",
        "%matplotlib inline"
      ]
    },
    {
      "cell_type": "code",
      "source": [
        "# download the names.txt file from github in the english language\n",
        "!wget https://raw.githubusercontent.com/noakraler/animal_names.txt/refs/heads/main/animal_names.txt"
      ],
      "metadata": {
        "colab": {
          "base_uri": "https://localhost:8080/"
        },
        "id": "9Rlc3YeWcm_d",
        "outputId": "9422798d-6ed7-4c45-f21a-21d0e89ca37b"
      },
      "execution_count": 3,
      "outputs": [
        {
          "output_type": "stream",
          "name": "stdout",
          "text": [
            "--2025-02-24 10:30:42--  https://raw.githubusercontent.com/noakraler/animal_names.txt/refs/heads/main/animal_names.txt\n",
            "Resolving raw.githubusercontent.com (raw.githubusercontent.com)... 185.199.108.133, 185.199.109.133, 185.199.110.133, ...\n",
            "Connecting to raw.githubusercontent.com (raw.githubusercontent.com)|185.199.108.133|:443... connected.\n",
            "HTTP request sent, awaiting response... 200 OK\n",
            "Length: 11753 (11K) [text/plain]\n",
            "Saving to: ‘animal_names.txt’\n",
            "\n",
            "animal_names.txt    100%[===================>]  11.48K  --.-KB/s    in 0s      \n",
            "\n",
            "2025-02-24 10:30:42 (51.1 MB/s) - ‘animal_names.txt’ saved [11753/11753]\n",
            "\n"
          ]
        }
      ]
    },
    {
      "cell_type": "code",
      "source": [
        "words_en = open('animal_names.txt', 'r').read().splitlines() #open a file in read more and read the content of it, in addition split the file into a list with separted words\n",
        "words_en = [word.replace(\"-\", \"\").replace(\"'\", \"\").replace(\",\",\" \").replace(\"’\",\" \").replace(\".\",\" \") for word in words_en] #replace/drop punctuation\n",
        "words_en = [word.lower() for word in words_en]\n",
        "words_en[:10] #show the first 10 words from the list\n",
        "\n"
      ],
      "metadata": {
        "colab": {
          "base_uri": "https://localhost:8080/"
        },
        "id": "uH2MGP4FcidR",
        "outputId": "7d129c3a-cac9-45f8-dcc9-822e68965c89"
      },
      "execution_count": 4,
      "outputs": [
        {
          "output_type": "execute_result",
          "data": {
            "text/plain": [
              "['aardvark',\n",
              " 'albatross',\n",
              " 'alligator',\n",
              " 'alpaca',\n",
              " 'anaconda',\n",
              " 'angelfish',\n",
              " 'ant',\n",
              " 'anteater',\n",
              " 'antelope',\n",
              " 'armadillo']"
            ]
          },
          "metadata": {},
          "execution_count": 4
        }
      ]
    },
    {
      "cell_type": "code",
      "source": [
        "len(words_en) # count the  number of words in the list"
      ],
      "metadata": {
        "colab": {
          "base_uri": "https://localhost:8080/"
        },
        "id": "FbakoEqAcvnF",
        "outputId": "9f83c9b5-0a6a-4fce-cede-0b3c86ee42a6"
      },
      "execution_count": 5,
      "outputs": [
        {
          "output_type": "execute_result",
          "data": {
            "text/plain": [
              "1044"
            ]
          },
          "metadata": {},
          "execution_count": 5
        }
      ]
    },
    {
      "cell_type": "code",
      "source": [
        "\n",
        "\n",
        "# build the vocabulary of characters and mappings to/from integers (EN)\n",
        "chars_en = sorted(list(set(''.join(words_en)))) #concatenates the words into a string, while organizing the characters into consisnt order\n",
        "print(chars_en)\n",
        "stoi_en = {s: i+1 for i, s in enumerate(chars_en)} #string to index\n",
        "stoi_en['.'] = 0 # מראה ש. זה סיום מילה על ידי 0\n",
        "\n",
        "# Remove numerical keys from stoi_en\n",
        "stoi_en = {k: v for k, v in stoi_en.items() if not k.isdigit()} # Filter out numerical keys\n",
        "\n",
        "print(stoi_en)\n",
        "\n",
        "itos_en = {i: s for s, i in stoi_en.items()} #index to string\n",
        "print(itos_en)\n",
        "\n",
        "\n",
        "\n",
        "\n",
        "# build the dataset  in english\n",
        "block_size = 3 #context length\n",
        "\n",
        "def build_dataset(words_en): #converts the list of words into dataset\n",
        "  X, Y = [], []\n",
        "  for w in words_en:\n",
        "\n",
        "\n",
        "    context = [0] * block_size #intializes a vector of length 3 into zeros\n",
        "    for ch in w + '.': #adds a period in the end of words\n",
        "      ix = stoi_en[ch] # get the index of the current character from stoi_en\n",
        "      X.append(context) #previous 3 characters\n",
        "      Y.append(ix) #next characters\n",
        "      context = context[1:] + [ix] # crop and append\n",
        "\n",
        "#tensor data formeat\n",
        "  X = torch.tensor(X)\n",
        "  Y = torch.tensor(Y)\n",
        "  print(X.shape, Y.shape)\n",
        "  return X, Y #return to dateset\n",
        "\n",
        "import random\n",
        "random.seed(42) # make sure the the random shuffle is consistent\n",
        "random.shuffle(words_en)\n",
        "n1 = int(0.8*len(words_en)) #for training\n",
        "n2 = int(0.9*len(words_en)) #for validation\n",
        "\n",
        "Xtr_en, Ytr_en = build_dataset(words_en[:n1]) # Define Xtr_en, Ytr_en - convert to numerical -traning set\n",
        "Xdev, Ydev = build_dataset(words_en[n1:n2])   #validation set\n",
        "Xte, Yte = build_dataset(words_en[n2:]) #test set\n",
        "\n",
        " # קבלת רשימה של כל התווים ב-Xtr\n",
        "all_chars_in_Xtr = set(Xtr_en.flatten().tolist())\n",
        "\n",
        "# מציאת תווים חסרים\n",
        "missing_chars = all_chars_in_Xtr - set(stoi_en.keys())\n",
        "\n",
        "#adding special characters\n",
        "next_index = max(stoi_en.values()) + 1\n",
        "for char in missing_chars:\n",
        "    stoi_en[char] = next_index\n",
        "    next_index += 1\n",
        "\n",
        "\n",
        "#Add handling for unknown characters\n",
        "max_index_in_Xtr_en = torch.max(Xtr_en) # find the biggest index\n",
        "if max_index_in_Xtr_en >= len(stoi_en): #find any character not in vocabulary\n",
        "    print(f\"Warning: Xtr contains indices greater than vocabulary size. Max index in Xtr: {max_index_in_Xtr_en}, Vocabulary size: {len(stoi_en)}\")\n",
        "    Xtr_en[Xtr_en >= len(stoi_en)] = 0 # replace unknown characters with a special token\n",
        "\n",
        "\n",
        "\n"
      ],
      "metadata": {
        "colab": {
          "base_uri": "https://localhost:8080/"
        },
        "id": "L0MM29ruZZls",
        "outputId": "6e32954c-b3e9-4775-f6f9-00dc9e76cd49"
      },
      "execution_count": 6,
      "outputs": [
        {
          "output_type": "stream",
          "name": "stdout",
          "text": [
            "[' ', 'a', 'b', 'c', 'd', 'e', 'f', 'g', 'h', 'i', 'j', 'k', 'l', 'm', 'n', 'o', 'p', 'q', 'r', 's', 't', 'u', 'v', 'w', 'x', 'y', 'z']\n",
            "{' ': 1, 'a': 2, 'b': 3, 'c': 4, 'd': 5, 'e': 6, 'f': 7, 'g': 8, 'h': 9, 'i': 10, 'j': 11, 'k': 12, 'l': 13, 'm': 14, 'n': 15, 'o': 16, 'p': 17, 'q': 18, 'r': 19, 's': 20, 't': 21, 'u': 22, 'v': 23, 'w': 24, 'x': 25, 'y': 26, 'z': 27, '.': 0}\n",
            "{1: ' ', 2: 'a', 3: 'b', 4: 'c', 5: 'd', 6: 'e', 7: 'f', 8: 'g', 9: 'h', 10: 'i', 11: 'j', 12: 'k', 13: 'l', 14: 'm', 15: 'n', 16: 'o', 17: 'p', 18: 'q', 19: 'r', 20: 's', 21: 't', 22: 'u', 23: 'v', 24: 'w', 25: 'x', 26: 'y', 27: 'z', 0: '.'}\n",
            "torch.Size([9374, 3]) torch.Size([9374])\n",
            "torch.Size([1225, 3]) torch.Size([1225])\n",
            "torch.Size([1119, 3]) torch.Size([1119])\n"
          ]
        }
      ]
    },
    {
      "cell_type": "code",
      "source": [
        "\n",
        "g_en = torch.Generator().manual_seed(2147483647) # for reproducibility\n",
        "C_en = torch.randn((80, 10), generator=g_en) #create a random embedding matrix ' 80 rows and 10 columns\n",
        "W1_en = torch.randn((30, 200), generator=g_en) #take 30 values and map them to 200 neurons\n",
        "b1_en = torch.randn(200, generator=g_en) #add a 200 size vector to each neuron\n",
        "W2_en = torch.randn((200, 80), generator=g_en) #take 200 from first layer and maps to 80 outputs\n",
        "b2_en = torch.randn(80, generator=g_en) #add 80 size vactor\n",
        "parameters_en = [C_en, W1_en, b1_en, W2_en, b2_en] #grop the parameters into a list"
      ],
      "metadata": {
        "id": "EAA0_oigc13X"
      },
      "execution_count": 71,
      "outputs": []
    },
    {
      "cell_type": "code",
      "source": [
        "sum(p.nelement() for p in parameters_en) # number of parameters in total in english"
      ],
      "metadata": {
        "colab": {
          "base_uri": "https://localhost:8080/"
        },
        "id": "_HcVef6-c5S4",
        "outputId": "4fb10b13-00ff-4de3-afe0-09a372215ad3"
      },
      "execution_count": 34,
      "outputs": [
        {
          "output_type": "execute_result",
          "data": {
            "text/plain": [
              "23080"
            ]
          },
          "metadata": {},
          "execution_count": 34
        }
      ]
    },
    {
      "cell_type": "code",
      "source": [
        "#track gradients\n",
        "for p in parameters_en:\n",
        "  p.requires_grad = True"
      ],
      "metadata": {
        "id": "coNBea1sc6tm"
      },
      "execution_count": 35,
      "outputs": []
    },
    {
      "cell_type": "code",
      "source": [
        "#create a range of learning rates\n",
        "lre = torch.linspace(-3, 0, 1000)\n",
        "lrs = 10**lre"
      ],
      "metadata": {
        "id": "nFWpAj_9c9Yr"
      },
      "execution_count": 36,
      "outputs": []
    },
    {
      "cell_type": "code",
      "source": [
        "#here are enpty lists to store:\n",
        "lri = [] #learning rate\n",
        "lossi = [] #loss values\n",
        "stepi = [] # traning steps"
      ],
      "metadata": {
        "id": "t2huuyTudBlF"
      },
      "execution_count": 37,
      "outputs": []
    },
    {
      "cell_type": "code",
      "source": [
        "for i in range(200000):\n",
        "\n",
        "  # minibatch construct\n",
        "  ix = torch.randint(0, Xtr_en.shape[0], (32,))\n",
        "\n",
        "  # forward pass\n",
        "  emb = C_en[Xtr_en[ix]] # (32, 3, 2)\n",
        "  h = torch.tanh(emb.view(-1, 30) @ W1_en + b1_en) # (32, 100)\n",
        "  logits = h @ W2_en + b2_en # (32, 27)\n",
        "  loss = F.cross_entropy(logits, Ytr_en[ix])\n",
        "  #print(loss.item())\n",
        "\n",
        "  # backward pass\n",
        "  for p in parameters_en:\n",
        "    p.grad = None\n",
        "  loss.backward()\n",
        "\n",
        "  # update\n",
        "  #lr = lrs[i]\n",
        "  lr = 0.1 if i < 100000 else 0.01\n",
        "  for p in parameters_en:\n",
        "    p.data += -lr * p.grad\n",
        "\n",
        "  # track stats\n",
        "  #lri.append(lre[i])\n",
        "  stepi.append(i)\n",
        "  lossi.append(loss.log10().item())\n",
        "\n",
        "#print(loss.item())"
      ],
      "metadata": {
        "id": "RLeRD13DX-cE"
      },
      "execution_count": 38,
      "outputs": []
    },
    {
      "cell_type": "code",
      "source": [
        "plt.plot(stepi, lossi)"
      ],
      "metadata": {
        "id": "ZBAYXZ_rdGIG",
        "colab": {
          "base_uri": "https://localhost:8080/",
          "height": 447
        },
        "outputId": "c8ff06e3-0f67-4384-d2d4-e031246f9afb"
      },
      "execution_count": 39,
      "outputs": [
        {
          "output_type": "execute_result",
          "data": {
            "text/plain": [
              "[<matplotlib.lines.Line2D at 0x7b2277b13fd0>]"
            ]
          },
          "metadata": {},
          "execution_count": 39
        },
        {
          "output_type": "display_data",
          "data": {
            "text/plain": [
              "<Figure size 640x480 with 1 Axes>"
            ],
            "image/png": "[encoded data removed]"
          },
          "metadata": {}
        }
      ]
    },
    {
      "cell_type": "code",
      "source": [
        "# training loss\n",
        "emb = C_en[Xtr_en] #retrive the embedding\n",
        "h = torch.tanh(emb.view(-1, 30) @ W1_en + b1_en) #linar transformation  and tanh activation\n",
        "logits = h @ W2_en + b2_en #complete logits\n",
        "loss = F.cross_entropy(logits, Ytr_en)  #crentropyoss\n",
        "loss #show the loss"
      ],
      "metadata": {
        "id": "ZlhYinNgdIVF",
        "colab": {
          "base_uri": "https://localhost:8080/"
        },
        "outputId": "894ac89c-292f-4dc2-875d-34cdecc3c8af"
      },
      "execution_count": 40,
      "outputs": [
        {
          "output_type": "execute_result",
          "data": {
            "text/plain": [
              "tensor(1.0107, grad_fn=<NllLossBackward0>)"
            ]
          },
          "metadata": {},
          "execution_count": 40
        }
      ]
    },
    {
      "cell_type": "code",
      "source": [
        "# validation loss\n",
        "emb = C_en[Xdev] # retrieve the embeddings\n",
        "h = torch.tanh(emb.view(-1, 30) @ W1_en + b1_en)  #linar transformation  and tanh activation\n",
        "logits = h @ W2_en + b2_en  #complete logits\n",
        "loss = F.cross_entropy(logits, Ydev)  #crentropyoss\n",
        "loss #show loss"
      ],
      "metadata": {
        "id": "cJH3DDu4dLTM",
        "colab": {
          "base_uri": "https://localhost:8080/"
        },
        "outputId": "a7229122-5ed1-4240-859c-16479dc9d877"
      },
      "execution_count": 41,
      "outputs": [
        {
          "output_type": "execute_result",
          "data": {
            "text/plain": [
              "tensor(2.8844, grad_fn=<NllLossBackward0>)"
            ]
          },
          "metadata": {},
          "execution_count": 41
        }
      ]
    },
    {
      "cell_type": "code",
      "source": [
        "# test loss\n",
        "emb = C_en[Xte] #  retrieve the embeddings\n",
        "h = torch.tanh(emb.view(-1, 30) @ W1_en + b1_en) # linar transformation  and tanh activation\n",
        "logits = h @ W2_en + b2_en #complete logits\n",
        "loss = F.cross_entropy(logits, Yte)  #crentropyoss\n",
        "loss #show loss"
      ],
      "metadata": {
        "id": "DwOgCg1vdNhe",
        "colab": {
          "base_uri": "https://localhost:8080/"
        },
        "outputId": "e09402f4-1719-4246-c418-0a5364ed0692"
      },
      "execution_count": 42,
      "outputs": [
        {
          "output_type": "execute_result",
          "data": {
            "text/plain": [
              "tensor(2.5022, grad_fn=<NllLossBackward0>)"
            ]
          },
          "metadata": {},
          "execution_count": 42
        }
      ]
    },
    {
      "cell_type": "code",
      "source": [
        "plt.figure(figsize=(8,8))\n",
        "plt.scatter(C_en[:,0].data, C_en[:,1].data, s=200)\n",
        "\n",
        "for i in range(C_en.shape[0]):\n",
        "    letter = itos_en.get(i, \"\")  # אם i לא קיים במילון, נחזיר מחרוזת ריקה\n",
        "    plt.text(C_en[i, 0].item(), C_en[i, 1].item(),\n",
        "             letter,\n",
        "             ha=\"center\", va=\"center\", color='white')\n",
        "\n",
        "plt.grid('minor')\n",
        "plt.show()\n"
      ],
      "metadata": {
        "colab": {
          "base_uri": "https://localhost:8080/",
          "height": 676
        },
        "id": "P4trFlzTi4ht",
        "outputId": "b5d46ec1-64af-43ed-b074-dd45ba458ac4"
      },
      "execution_count": 44,
      "outputs": [
        {
          "output_type": "display_data",
          "data": {
            "text/plain": [
              "<Figure size 800x800 with 1 Axes>"
            ],
            "image/png": "[encoded data removed]"
          },
          "metadata": {}
        }
      ]
    },
    {
      "cell_type": "code",
      "source": [
        "# sample from the model\n",
        "g = torch.Generator().manual_seed(2147483647 + 10) #set a random seed\n",
        "\n",
        "for _ in range(20): #generate 20 names\n",
        "\n",
        "    out = [] # make an empty list to store generated names\n",
        "    context = [0] * block_size # initialize with all zeros\n",
        "    while True: #keep generating\n",
        "      emb = C_en[torch.tensor([context])] # (retrieve the embeddings\n",
        "      h = torch.tanh(emb.view(1, -1) @ W1_en + b1_en) #comute hidden layer activation with tanh\n",
        "      logits = h @ W2_en + b2_en # compute final output layer\n",
        "      probs = F.softmax(logits, dim=1) #apply softmax\n",
        "      ix = torch.multinomial(probs, num_samples=1, generator=g).item() #sample the next character with the right probability\n",
        "      context = context[1:] + [ix] #update the context\n",
        "      out.append(ix) #store the charcter to outpot list\n",
        "      if ix == 0: #when reacing the stop token ,stop generating\n",
        "        break\n",
        "\n",
        "    print(''.join(itos_en[i] for i in out))"
      ],
      "metadata": {
        "id": "TQUMmgRrdRIA",
        "colab": {
          "base_uri": "https://localhost:8080/"
        },
        "outputId": "11737766-f039-4933-9bc6-dbf47932dc41"
      },
      "execution_count": 45,
      "outputs": [
        {
          "output_type": "stream",
          "name": "stdout",
          "text": [
            "asian lobstern duckoo.\n",
            "koalamarinian cat.\n",
            "crimp.\n",
            "dog.\n",
            "greotamute.\n",
            "dor.\n",
            "pelack panther.\n",
            "pelicary.\n",
            "austral bee.\n",
            "bis.\n",
            "dodo dog.\n",
            "anther.\n",
            "alligator pengller.\n",
            "kangearedtainteater.\n",
            "axoloth.\n",
            "albat.\n",
            "tomatode.\n",
            "mouse deer.\n",
            "goat.\n",
            "pygmy egreoth.\n"
          ]
        }
      ]
    },
    {
      "cell_type": "markdown",
      "source": [
        "the spanish model"
      ],
      "metadata": {
        "id": "Z1Zu5SWvOINi"
      }
    },
    {
      "cell_type": "code",
      "source": [
        "import torch #import the library\n",
        "import torch.nn.functional as F #for functions such as loss coputation\n",
        "import matplotlib.pyplot as plt # for making figures\n",
        "%matplotlib inline"
      ],
      "metadata": {
        "id": "iwENKZS7dT_5"
      },
      "execution_count": 46,
      "outputs": []
    },
    {
      "cell_type": "code",
      "source": [
        "# download the names.txt file from github in Spanish\n",
        "!wget https://raw.githubusercontent.com/noakraler/animal_names.txt/refs/heads/main/animal_spanish.txt"
      ],
      "metadata": {
        "colab": {
          "base_uri": "https://localhost:8080/"
        },
        "id": "LWaB96fjOOYc",
        "outputId": "36ae5ffa-272d-4b9f-ac94-0dff7c90af88"
      },
      "execution_count": 47,
      "outputs": [
        {
          "output_type": "stream",
          "name": "stdout",
          "text": [
            "--2025-02-24 10:51:48--  https://raw.githubusercontent.com/noakraler/animal_names.txt/refs/heads/main/animal_spanish.txt\n",
            "Resolving raw.githubusercontent.com (raw.githubusercontent.com)... 185.199.108.133, 185.199.109.133, 185.199.110.133, ...\n",
            "Connecting to raw.githubusercontent.com (raw.githubusercontent.com)|185.199.108.133|:443... connected.\n",
            "HTTP request sent, awaiting response... 200 OK\n",
            "Length: 20488 (20K) [text/plain]\n",
            "Saving to: ‘animal_spanish.txt’\n",
            "\n",
            "animal_spanish.txt  100%[===================>]  20.01K  --.-KB/s    in 0s      \n",
            "\n",
            "2025-02-24 10:51:48 (78.4 MB/s) - ‘animal_spanish.txt’ saved [20488/20488]\n",
            "\n"
          ]
        }
      ]
    },
    {
      "cell_type": "code",
      "source": [
        "words_sp = open('animal_spanish.txt', 'r').read().splitlines() #open a file in read more and read the content of it, in addition split the file into a list with separted words\n",
        "words_sp = [word.replace(\"-\", \"\").replace(\"'\", \"\").replace(\",\",\" \") for word in words_sp]\n",
        "words_sp = [word.lower() for word in words_sp]\n",
        "words_sp[:8] #show the first 8 words from the list"
      ],
      "metadata": {
        "colab": {
          "base_uri": "https://localhost:8080/"
        },
        "id": "W_3ltc_9OQer",
        "outputId": "0d28a3d7-3310-4e97-985e-076a8485ec9b"
      },
      "execution_count": 48,
      "outputs": [
        {
          "output_type": "execute_result",
          "data": {
            "text/plain": [
              "['abeja',\n",
              " 'águila',\n",
              " 'albatros',\n",
              " 'alce',\n",
              " 'almeja',\n",
              " 'anaconda',\n",
              " 'anguila',\n",
              " 'antílope']"
            ]
          },
          "metadata": {},
          "execution_count": 48
        }
      ]
    },
    {
      "cell_type": "code",
      "source": [
        "len(words_sp) #cound words"
      ],
      "metadata": {
        "colab": {
          "base_uri": "https://localhost:8080/"
        },
        "id": "epgkMM2CORYZ",
        "outputId": "40d5bf63-b081-4890-d144-57c34dedef96"
      },
      "execution_count": 49,
      "outputs": [
        {
          "output_type": "execute_result",
          "data": {
            "text/plain": [
              "1052"
            ]
          },
          "metadata": {},
          "execution_count": 49
        }
      ]
    },
    {
      "cell_type": "code",
      "source": [
        "# build the vocabulary of characters and mappings to/from integers (SP)\n",
        "chars_sp = sorted(list(set(''.join(words_sp))))  #concatenates the words into a string, while organizing the characters into consisnt order\n",
        "stoi_sp = {s:i+1 for i,s in enumerate(chars_sp)}  #string to index\n",
        "stoi_sp['.'] = 0   #index to string\n",
        "itos_sp = {i:s for s,i in stoi_sp.items()}\n",
        "print(itos_sp)\n",
        "\n",
        "\n",
        "# build the dataset in Spanish\n",
        "block_size = 3 # context length\n",
        "def build_dataset(words_sp): #converts the list of words into dataset\n",
        "  X, Y = [], []\n",
        "  for w in words_sp:\n",
        "\n",
        "    context = [0] * block_size  #intializes a vector of length 3 into zeros\n",
        "    for ch in w + '.':    #adds a period in the end of words\n",
        "      ix = stoi_sp[ch]   #characters to numerical index\n",
        "      X.append(context)  #previous 3 characters\n",
        "      Y.append(ix)    #next characters\n",
        "\n",
        "      context = context[1:] + [ix] # crop and append\n",
        "\n",
        "#tensor data formeat\n",
        "  X = torch.tensor(X)\n",
        "  Y = torch.tensor(Y)\n",
        "  print(X.shape, Y.shape)\n",
        "  return X, Y  #return to dateset\n",
        "\n",
        "\n",
        "import random\n",
        "random.seed(42)  #make sure the the random shuffle is consistent\n",
        "random.shuffle(words_sp)\n",
        "n1 = int(0.8*len(words_sp))  #for training\n",
        "n2 = int(0.9*len(words_sp))   #for validation\n",
        "\n",
        "Xtr_sp, Ytr_sp = build_dataset(words_sp[:n1])  # Define Xtr_en, Ytr_en - convert to numerical -traning set\n",
        "Xdev_sp, Ydev_sp = build_dataset(words_sp[n1:n2])  #validation set\n",
        "Xte_sp, Yte_sp = build_dataset(words_sp[n2:])    #test set\n",
        "\n",
        "\n",
        "#Add handling for unknown characters\n",
        "max_index_in_Xtr_sp  = torch.max(Xtr_sp) # find the biggest index\n",
        "if max_index_in_Xtr_en >= len(stoi_sp): #find any character not in vocabulary\n",
        "\n",
        "    print(f\"Warning: Xtr_sp contains indices greater than vocabulary size. Max index in Xtr: {max_index_in_Xtr_sp}, Vocabulary size: {len(stoi_sp)}\")\n",
        "    # Option 1: Replace unknown indices with a special token (e.g., 0 for unknown)\n",
        "    Xtr_sp[Xtr_sp >= len(stoi_sp)] = 0 ## replace unknown characters with a special token\n",
        "\n",
        "\n",
        "\n"
      ],
      "metadata": {
        "colab": {
          "base_uri": "https://localhost:8080/"
        },
        "id": "OxkpTSz_VX9D",
        "outputId": "bed67a92-410b-49a3-e789-8c36d58efad2"
      },
      "execution_count": 50,
      "outputs": [
        {
          "output_type": "stream",
          "name": "stdout",
          "text": [
            "{1: ' ', 2: 'a', 3: 'b', 4: 'c', 5: 'd', 6: 'e', 7: 'f', 8: 'g', 9: 'h', 10: 'i', 11: 'j', 12: 'k', 13: 'l', 14: 'm', 15: 'n', 16: 'o', 17: 'p', 18: 'q', 19: 'r', 20: 's', 21: 't', 22: 'u', 23: 'v', 24: 'w', 25: 'x', 26: 'y', 27: 'z', 28: 'á', 29: 'é', 30: 'í', 31: 'ñ', 32: 'ó', 33: 'ú', 34: 'ü', 0: '.'}\n",
            "torch.Size([16046, 3]) torch.Size([16046])\n",
            "torch.Size([2079, 3]) torch.Size([2079])\n",
            "torch.Size([1905, 3]) torch.Size([1905])\n"
          ]
        }
      ]
    },
    {
      "cell_type": "code",
      "source": [
        "# build the dataset\n",
        "block_size = 3 # context length: how many characters do we take to predict the next one?\n",
        "\n",
        "def build_dataset(words_sp):\n",
        "  X, Y = [], []\n",
        "  for w in words_sp:\n",
        "\n",
        "    #print(w)\n",
        "    context = [0] * block_size\n",
        "    for ch in w + '.':\n",
        "      ix = stoi_sp[ch]\n",
        "      X.append(context)\n",
        "      Y.append(ix)\n",
        "      #print(''.join(itos[i] for i in context), '--->', itos_sp[ix])\n",
        "      context = context[1:] + [ix] # crop and append\n",
        "\n",
        "  X = torch.tensor(X)\n",
        "  Y = torch.tensor(Y)\n",
        "  print(X.shape, Y.shape)\n",
        "  return X, Y\n",
        "\n",
        "import random\n",
        "random.seed(42)\n",
        "random.shuffle(words_sp)\n",
        "n1 = int(0.8*len(words_sp))\n",
        "n2 = int(0.9*len(words_sp))\n",
        "\n",
        "Xtr_sp, Ytr_sp = build_dataset(words_sp[:n1])\n",
        "Xdev_sp, Ydev_sp = build_dataset(words_sp[n1:n2])\n",
        "Xte_sp, Yte_sp = build_dataset(words_sp[n2:])"
      ],
      "metadata": {
        "colab": {
          "base_uri": "https://localhost:8080/"
        },
        "id": "Yg0B_-1-OZ1D",
        "outputId": "104f74b6-ad35-46c0-b8e3-d4badf3e1bb0"
      },
      "execution_count": 51,
      "outputs": [
        {
          "output_type": "stream",
          "name": "stdout",
          "text": [
            "torch.Size([15795, 3]) torch.Size([15795])\n",
            "torch.Size([2114, 3]) torch.Size([2114])\n",
            "torch.Size([2121, 3]) torch.Size([2121])\n"
          ]
        }
      ]
    },
    {
      "cell_type": "code",
      "source": [
        "g_sp = torch.Generator().manual_seed(2147483647) # for reproducibility\n",
        "C_sp = torch.randn((80, 10), generator=g) #create a random embedding matrix ' 80 rows and 10 columns\n",
        "W1_sp = torch.randn((30, 200), generator=g) #take 30 values and map them to 200 neurons\n",
        "b1_sp = torch.randn(200, generator=g)  #add a 200 size vector to each neuron\n",
        "W2_sp = torch.randn((200, 80), generator=g) #take 200 from first layer and maps to 80 outputs\n",
        "b2_sp = torch.randn(80, generator=g)  #add 80 size vactor\n",
        "parameters_sp = [C_sp, W1_sp, b1_sp, W2_sp, b2_sp]  #grop the parameters into a list"
      ],
      "metadata": {
        "id": "DildLMe_Oa7H"
      },
      "execution_count": 52,
      "outputs": []
    },
    {
      "cell_type": "code",
      "source": [
        "sum(p.nelement() for p in parameters_sp) # number of parameters in total in spanish"
      ],
      "metadata": {
        "colab": {
          "base_uri": "https://localhost:8080/"
        },
        "id": "9E74juS9OeKA",
        "outputId": "6e366a0a-5115-48c3-a6aa-19bdd7289789"
      },
      "execution_count": 53,
      "outputs": [
        {
          "output_type": "execute_result",
          "data": {
            "text/plain": [
              "23080"
            ]
          },
          "metadata": {},
          "execution_count": 53
        }
      ]
    },
    {
      "cell_type": "code",
      "source": [
        "#track gradients\n",
        "for p in parameters_sp:\n",
        "  p.requires_grad = True"
      ],
      "metadata": {
        "id": "ACw_rpdZOf8Q"
      },
      "execution_count": 54,
      "outputs": []
    },
    {
      "cell_type": "code",
      "source": [
        "#here are empty lists to store:\n",
        "\n",
        "lri = [] #learning rate\n",
        "lossi = [] #loss values\n",
        "stepi = []# traning steps"
      ],
      "metadata": {
        "id": "NIzF0vMvOhlz"
      },
      "execution_count": 55,
      "outputs": []
    },
    {
      "cell_type": "code",
      "source": [
        "for i in range(200000):\n",
        "\n",
        "  # minibatch construct\n",
        "  ix = torch.randint(0, Xtr_sp.shape[0], (32,))\n",
        "\n",
        "  # forward pass\n",
        "  emb = C_sp[Xtr_sp[ix]]\n",
        "  h = torch.tanh(emb.view(-1, 30) @ W1_sp + b1_sp)\n",
        "  logits = h @ W2_sp + b2_sp\n",
        "  loss = F.cross_entropy(logits, Ytr_sp[ix])\n",
        "\n",
        "  # backward pass\n",
        "  for p in parameters_sp:\n",
        "    p.grad = None\n",
        "  loss.backward()\n",
        "\n",
        "\n",
        "  #lr = lrs[i]\n",
        "  lr = 0.1 if i < 100000 else 0.01\n",
        "  for p in parameters_sp:\n",
        "    p.data += -lr * p.grad\n",
        "\n",
        "  # track stats\n",
        "  #lri.append(lre[i])\n",
        "  stepi.append(i)\n",
        "  lossi.append(loss.log10().item())\n",
        "\n",
        "#print(loss.item())"
      ],
      "metadata": {
        "id": "PfL-5jPvOjvg"
      },
      "execution_count": 56,
      "outputs": []
    },
    {
      "cell_type": "code",
      "source": [
        "plt.plot(stepi, lossi)"
      ],
      "metadata": {
        "id": "fPmSZWi2Ol6D",
        "colab": {
          "base_uri": "https://localhost:8080/",
          "height": 447
        },
        "outputId": "3cc045e1-4fc4-4d39-95ed-b8c6f0061049"
      },
      "execution_count": 57,
      "outputs": [
        {
          "output_type": "execute_result",
          "data": {
            "text/plain": [
              "[<matplotlib.lines.Line2D at 0x7b227819f810>]"
            ]
          },
          "metadata": {},
          "execution_count": 57
        },
        {
          "output_type": "display_data",
          "data": {
            "text/plain": [
              "<Figure size 640x480 with 1 Axes>"
            ],
            "image/png": "[encoded data removed]"
          },
          "metadata": {}
        }
      ]
    },
    {
      "cell_type": "code",
      "source": [
        "# training loss\n",
        "emb = C_sp[Xtr_sp] ##retrive the embedding\n",
        "h = torch.tanh(emb.view(-1, 30) @ W1_sp + b1_sp) #linar transformation  and tanh activation\n",
        "logits = h @ W2_sp + b2_sp # (32, 27) #complete logits\n",
        "loss = F.cross_entropy(logits, Ytr_sp) #crentropyoss\n",
        "loss #show the loss"
      ],
      "metadata": {
        "id": "LqTyhj-BOpAP",
        "colab": {
          "base_uri": "https://localhost:8080/"
        },
        "outputId": "2b511f9a-c32f-4313-d048-28a36d128bcb"
      },
      "execution_count": 58,
      "outputs": [
        {
          "output_type": "execute_result",
          "data": {
            "text/plain": [
              "tensor(0.7778, grad_fn=<NllLossBackward0>)"
            ]
          },
          "metadata": {},
          "execution_count": 58
        }
      ]
    },
    {
      "cell_type": "code",
      "source": [
        " #validation loss\n",
        "emb = C_sp[Xdev] # retrieve the embeddings\n",
        "h = torch.tanh(emb.view(-1, 30) @ W1_sp + b1_sp)  #linar transformation  and tanh activation\n",
        "logits = h @ W2_sp + b2_sp  #complete logits\n",
        "loss = F.cross_entropy(logits, Ydev)  #crentropyoss\n",
        "loss #show loss"
      ],
      "metadata": {
        "id": "Mysxr0v9lAmV",
        "colab": {
          "base_uri": "https://localhost:8080/"
        },
        "outputId": "4074c1af-348d-4565-8ede-76bae1c434ac"
      },
      "execution_count": 59,
      "outputs": [
        {
          "output_type": "execute_result",
          "data": {
            "text/plain": [
              "tensor(7.8303, grad_fn=<NllLossBackward0>)"
            ]
          },
          "metadata": {},
          "execution_count": 59
        }
      ]
    },
    {
      "cell_type": "code",
      "source": [
        "# test loss\n",
        "emb = C_sp[Xte] #  retrieve the embeddings\n",
        "h = torch.tanh(emb.view(-1, 30) @ W1_sp + b1_sp) # linar transformation  and tanh activation\n",
        "logits = h @ W2_sp + b2_sp #complete logits\n",
        "loss = F.cross_entropy(logits, Yte)  #crentropyoss\n",
        "loss #show loss"
      ],
      "metadata": {
        "id": "RrlIC15PlECl",
        "colab": {
          "base_uri": "https://localhost:8080/"
        },
        "outputId": "a1c836ea-dc05-4d19-86de-f69976bdecab"
      },
      "execution_count": 60,
      "outputs": [
        {
          "output_type": "execute_result",
          "data": {
            "text/plain": [
              "tensor(8.3843, grad_fn=<NllLossBackward0>)"
            ]
          },
          "metadata": {},
          "execution_count": 60
        }
      ]
    },
    {
      "cell_type": "code",
      "source": [
        "print(\"Characters in stoi_sp:\", stoi_sp) # check the character-to-index mapping\n"
      ],
      "metadata": {
        "id": "qoiyj92qOyof",
        "colab": {
          "base_uri": "https://localhost:8080/"
        },
        "outputId": "22797c31-bf9b-4367-e882-2e1db7e5f321"
      },
      "execution_count": 61,
      "outputs": [
        {
          "output_type": "stream",
          "name": "stdout",
          "text": [
            "Characters in stoi_sp: {' ': 1, 'a': 2, 'b': 3, 'c': 4, 'd': 5, 'e': 6, 'f': 7, 'g': 8, 'h': 9, 'i': 10, 'j': 11, 'k': 12, 'l': 13, 'm': 14, 'n': 15, 'o': 16, 'p': 17, 'q': 18, 'r': 19, 's': 20, 't': 21, 'u': 22, 'v': 23, 'w': 24, 'x': 25, 'y': 26, 'z': 27, 'á': 28, 'é': 29, 'í': 30, 'ñ': 31, 'ó': 32, 'ú': 33, 'ü': 34, '.': 0}\n"
          ]
        }
      ]
    },
    {
      "cell_type": "code",
      "source": [
        "#chaking the missing characters\n",
        "missing_chars = []\n",
        "\n",
        "for i in range(C_sp.shape[0]):\n",
        "    if i not in itos_sp:\n",
        "        missing_chars.append(i)\n",
        "\n",
        "print(\"Missing characters in itos_sp:\", missing_chars)"
      ],
      "metadata": {
        "id": "J5vg-karT2fc",
        "colab": {
          "base_uri": "https://localhost:8080/"
        },
        "outputId": "45f04bd0-e27e-4889-e988-8f5cb3107a5a"
      },
      "execution_count": 62,
      "outputs": [
        {
          "output_type": "stream",
          "name": "stdout",
          "text": [
            "Missing characters in itos_sp: [35, 36, 37, 38, 39, 40, 41, 42, 43, 44, 45, 46, 47, 48, 49, 50, 51, 52, 53, 54, 55, 56, 57, 58, 59, 60, 61, 62, 63, 64, 65, 66, 67, 68, 69, 70, 71, 72, 73, 74, 75, 76, 77, 78, 79]\n"
          ]
        }
      ]
    },
    {
      "cell_type": "code",
      "source": [
        "# adding the missing characters\n",
        "missing_chars = [35, 36, 37, 38, 39, 40, 41, 42, 43, 44, 45, 46, 47, 48, 49, 50, 51, 52, 53, 54, 55, 56, 57, 58, 59, 60, 61]\n",
        "\n",
        "for char_index in missing_chars:\n",
        "    itos_sp[char_index] = \"?\"  # adding general sign to unknown characters"
      ],
      "metadata": {
        "id": "o661LHqsUbJ_"
      },
      "execution_count": 63,
      "outputs": []
    },
    {
      "source": [
        "# visualize dimensions 0 and 1 of the embedding matrix C for all characters\n",
        "plt.figure(figsize=(8,8)) #create a figure of 8 and 8 size\n",
        "plt.scatter(C_sp[:,0].data, C_sp[:,1].data, s=200) #plot a scatter\n",
        "for i in range(C_sp.shape[0]):\n",
        "    # Check if the key 'i' exists in itos_sp before accessing it\n",
        "    # If the key doesn't exist, use a placeholder character (e.g., '?')\n",
        "    char = itos_sp.get(i, \"?\")\n",
        "    plt.text(C_sp[i,0].item(), C_sp[i,1].item(), char, ha=\"center\", va=\"center\", color='white')\n",
        "plt.grid('minor')"
      ],
      "cell_type": "code",
      "metadata": {
        "colab": {
          "base_uri": "https://localhost:8080/",
          "height": 676
        },
        "id": "c_resBKZxJgH",
        "outputId": "b02ed05c-0465-46a8-c636-7d41f80cd5bc"
      },
      "execution_count": 64,
      "outputs": [
        {
          "output_type": "display_data",
          "data": {
            "text/plain": [
              "<Figure size 800x800 with 1 Axes>"
            ],
            "image/png": "[encoded data removed]"
          },
          "metadata": {}
        }
      ]
    },
    {
      "cell_type": "code",
      "source": [
        "# sample from the model\n",
        "g = torch.Generator().manual_seed(2147483647 + 10) #set a random seed\n",
        "\n",
        "for _ in range(20):  #generate  names\n",
        "\n",
        "    out = [] # make an empty list to store generated names\n",
        "    context = [0] * block_size ## initialize with all zeros\n",
        "    while True: #keep generating\n",
        "      emb = C_sp[torch.tensor([context])] # retrieve the embeddings\n",
        "      h = torch.tanh(emb.view(1, -1) @ W1_sp + b1_sp) #compute hidden layer activation with tanh\n",
        "      logits = h @ W2_sp + b2_sp  # compute final output layer\n",
        "      probs = F.softmax(logits, dim=1) #apply softmax\n",
        "      ix = torch.multinomial(probs, num_samples=1, generator=g).item() #sample the next character with the right probability\n",
        "      context = context[1:] + [ix] #update the context\n",
        "      out.append(ix)  #store the charcter to outpot list\n",
        "      if ix == 0:  #when reacing the stop token ,stop generating\n",
        "        break\n",
        "\n",
        "    print(''.join(itos_sp[i] for i in out))"
      ],
      "metadata": {
        "id": "C0VdpsKIO6HA",
        "colab": {
          "base_uri": "https://localhost:8080/"
        },
        "outputId": "c3580710-6010-4dfa-b190-97e49c94e257"
      },
      "execution_count": 65,
      "outputs": [
        {
          "output_type": "stream",
          "name": "stdout",
          "text": [
            "anta verdillande.\n",
            "campo.\n",
            "bicho zigzagueo volcánico.\n",
            "cierto.\n",
            "chincho zigzagueo saharaña banrtado.\n",
            "foca azul.\n",
            "bicho zigzagueo estal.\n",
            "bicho zigzagueo japonte.\n",
            "bicho zigzagueo tetraldimensional.\n",
            "corpión bameria.\n",
            "escorana fante.\n",
            "bicho zigzagueo azul.\n",
            "hientularileta.\n",
            "cisne duponte.\n",
            "hormigarrera.\n",
            "ardimensiona jorrileta.\n",
            "armónico primilla comatero.\n",
            "vena gallega.\n",
            "bicho zigzagueo volcánico univerdilla de perde.\n",
            "bicho zigzaguarina filipinte de del amar.\n"
          ]
        }
      ]
    },
    {
      "cell_type": "markdown",
      "source": [
        "part two\n",
        "after buliding  and traning the two models in english and spanish to learn  the strecure and patterns of each language, the next step is to eveluate id they can apply the rules they learned in one language and generated words in the other language.this stap will test the models ability to transfer linguistics knowledge between languages\n"
      ],
      "metadata": {
        "id": "17QzK3jLbvar"
      }
    },
    {
      "source": [
        "def evaluate_model(X, Y, C, W1, b1, W2, b2): # take different parameters and caculated the loss for the dataset : x-input data , y- targat data ,c- embadding matrix, w1+b1-first layer, w2+b2- second layer\n",
        "\n",
        "    emb = C[X] # retrieved the character embedding  for x from c\n",
        "    h = torch.tanh(emb.view(-1, 30) @ W1 + b1) # to make the embedding go trough to first layer\n",
        "    logits = h @ W2 + b2 # h(transfered data) is passed through the second layer\n",
        "    loss = F.cross_entropy(logits, Y) #compute loss between logits and Y\n",
        "    return loss #returen evaluation of loss\n",
        "#eveluating english model on english data\n",
        "loss_en = evaluate_model(Xtr_en, Ytr_en, C_en, W1_en, b1_en, W2_en, b2_en) # caculate the loss of english model on english data\n",
        "print(f\"Evaluating English model loss on English data: {loss_en}\")\n",
        "\n",
        "#eveluating spanish model on spanish data\n",
        "loss_sp = evaluate_model(Xtr_sp, Ytr_sp, C_sp, W1_sp, b1_sp, W2_sp, b2_sp) # caculate the loss of spanish  model on spanish data\n",
        "print(f\"Evaluating Spanish model loss on Spanish data: {loss_sp}\")"
      ],
      "cell_type": "code",
      "metadata": {
        "id": "nVj-DuUZdYQF",
        "colab": {
          "base_uri": "https://localhost:8080/"
        },
        "outputId": "1e92536f-72e5-4589-aefe-b34727d81ba1"
      },
      "execution_count": 66,
      "outputs": [
        {
          "output_type": "stream",
          "name": "stdout",
          "text": [
            "Evaluating English model loss on English data: 1.0107197761535645\n",
            "Evaluating Spanish model loss on Spanish data: 0.7778291702270508\n"
          ]
        }
      ]
    },
    {
      "cell_type": "code",
      "source": [
        "#eveluating english model on spanish data\n",
        "loss_en_on_sp = evaluate_model(Xtr_sp, Ytr_sp, C_en, W1_en, b1_en, W2_en, b2_en) # caculate the loss of english model on spanish  data\n",
        "print(f\"Evaluating English model loss on Spanish data: {loss_en_on_sp}\")\n",
        "\n",
        "#eveluating spanish model on english  data\n",
        "loss_sp_on_en = evaluate_model(Xtr_en, Ytr_en, C_sp, W1_sp, b1_sp, W2_sp, b2_sp) # caculate the loss of spanish model on english data\n",
        "print(f\"Evaluating Spanish model loss on English data: {loss_sp_on_en}\")\n"
      ],
      "metadata": {
        "id": "kWqMBhZ9b02P",
        "colab": {
          "base_uri": "https://localhost:8080/"
        },
        "outputId": "227731d7-2f35-4ef1-ce1a-1f2dbe0a0a1c"
      },
      "execution_count": 67,
      "outputs": [
        {
          "output_type": "stream",
          "name": "stdout",
          "text": [
            "Evaluating English model loss on Spanish data: 9.259305000305176\n",
            "Evaluating Spanish model loss on English data: 8.33609676361084\n"
          ]
        }
      ]
    },
    {
      "source": [
        "import torch\n",
        "import torch.nn.functional as F\n",
        "\n",
        "def generate_names(C, W1, b1, W2, b2, itos, num_names=10, block_size=3): #generate new names based on the trained models. c-embeddig matrix, w1+b1-first wiget matrix for hidden layer, w2+b2- second weight matrix for outpot, itos- maps integer ingices back to characters,num_numes- number of generate names , block_size-length of context\n",
        "\n",
        "    g = torch.Generator().manual_seed(2147483647 + 10)\n",
        "    generated_names = []\n",
        "\n",
        "    for _ in range(num_names):\n",
        "        out = []\n",
        "        context = [0] * block_size  # Initialize with all ...\n",
        "        while True:\n",
        "            emb = C[torch.tensor([context])]  # (1, block_size, d)\n",
        "            h = torch.tanh(emb.view(1, -1) @ W1 + b1)\n",
        "            logits = h @ W2 + b2\n",
        "            probs = F.softmax(logits, dim=1)\n",
        "            ix = torch.multinomial(probs, num_samples=1, generator=g).item()\n",
        "            context = context[1:] + [ix]\n",
        "            out.append(ix)\n",
        "            if ix == 0:\n",
        "                break\n",
        "\n",
        "        generated_names.append(''.join(itos[i] for i in out))\n",
        "\n",
        "    return generated_names"
      ],
      "cell_type": "code",
      "metadata": {
        "id": "ilTBbf-Bdi6l"
      },
      "execution_count": 68,
      "outputs": []
    },
    {
      "source": [
        "# in those lines I tried to generate spanish names with english model and visa\n",
        "# varsa, however since there are some characters In  spanish that are not\n",
        "# part from the english modal therfore the model cannot run it.(it supposed to fail)\n",
        "print(\"Generating Spanish names with English model...\")\n",
        "generate_names(C_en, W1_en, b1_en, W2_en, b2_en, itos_sp, num_names=10) # Using itos_sp יתfor Spanish names\n",
        "\n",
        "\n",
        "print(\"Generating English names with Spanish model...\")\n",
        "generate_names(C_sp, W1_sp, b1_sp, W2_sp, b2_sp, itos_en, num_names=10) #  the error is in this line in the \"itos_en\" part"
      ],
      "cell_type": "code",
      "metadata": {
        "id": "Nb0h4DQKmwpj",
        "colab": {
          "base_uri": "https://localhost:8080/",
          "height": 356
        },
        "outputId": "557069ba-867c-4d57-b627-c8b4d74e50c4"
      },
      "execution_count": 69,
      "outputs": [
        {
          "output_type": "stream",
          "name": "stdout",
          "text": [
            "Generating Spanish names with English model...\n",
            "Generating English names with Spanish model...\n"
          ]
        },
        {
          "output_type": "error",
          "ename": "KeyError",
          "evalue": "28",
          "traceback": [
            "\u001b[0;31m---------------------------------------------------------------------------\u001b[0m",
            "\u001b[0;31mKeyError\u001b[0m                                  Traceback (most recent call last)",
            "\u001b[0;32m<ipython-input-69-ac33e03d5980>\u001b[0m in \u001b[0;36m<cell line: 0>\u001b[0;34m()\u001b[0m\n\u001b[1;32m      7\u001b[0m \u001b[0;34m\u001b[0m\u001b[0m\n\u001b[1;32m      8\u001b[0m \u001b[0mprint\u001b[0m\u001b[0;34m(\u001b[0m\u001b[0;34m\"Generating English names with Spanish model...\"\u001b[0m\u001b[0;34m)\u001b[0m\u001b[0;34m\u001b[0m\u001b[0;34m\u001b[0m\u001b[0m\n\u001b[0;32m----> 9\u001b[0;31m \u001b[0mgenerate_names\u001b[0m\u001b[0;34m(\u001b[0m\u001b[0mC_sp\u001b[0m\u001b[0;34m,\u001b[0m \u001b[0mW1_sp\u001b[0m\u001b[0;34m,\u001b[0m \u001b[0mb1_sp\u001b[0m\u001b[0;34m,\u001b[0m \u001b[0mW2_sp\u001b[0m\u001b[0;34m,\u001b[0m \u001b[0mb2_sp\u001b[0m\u001b[0;34m,\u001b[0m \u001b[0mitos_en\u001b[0m\u001b[0;34m,\u001b[0m \u001b[0mnum_names\u001b[0m\u001b[0;34m=\u001b[0m\u001b[0;36m10\u001b[0m\u001b[0;34m)\u001b[0m \u001b[0;31m#  the error is in this line in the \"itos_en\" part\u001b[0m\u001b[0;34m\u001b[0m\u001b[0;34m\u001b[0m\u001b[0m\n\u001b[0m",
            "\u001b[0;32m<ipython-input-68-2c27da5bf30f>\u001b[0m in \u001b[0;36mgenerate_names\u001b[0;34m(C, W1, b1, W2, b2, itos, num_names, block_size)\u001b[0m\n\u001b[1;32m     21\u001b[0m                 \u001b[0;32mbreak\u001b[0m\u001b[0;34m\u001b[0m\u001b[0;34m\u001b[0m\u001b[0m\n\u001b[1;32m     22\u001b[0m \u001b[0;34m\u001b[0m\u001b[0m\n\u001b[0;32m---> 23\u001b[0;31m         \u001b[0mgenerated_names\u001b[0m\u001b[0;34m.\u001b[0m\u001b[0mappend\u001b[0m\u001b[0;34m(\u001b[0m\u001b[0;34m''\u001b[0m\u001b[0;34m.\u001b[0m\u001b[0mjoin\u001b[0m\u001b[0;34m(\u001b[0m\u001b[0mitos\u001b[0m\u001b[0;34m[\u001b[0m\u001b[0mi\u001b[0m\u001b[0;34m]\u001b[0m \u001b[0;32mfor\u001b[0m \u001b[0mi\u001b[0m \u001b[0;32min\u001b[0m \u001b[0mout\u001b[0m\u001b[0;34m)\u001b[0m\u001b[0;34m)\u001b[0m\u001b[0;34m\u001b[0m\u001b[0;34m\u001b[0m\u001b[0m\n\u001b[0m\u001b[1;32m     24\u001b[0m \u001b[0;34m\u001b[0m\u001b[0m\n\u001b[1;32m     25\u001b[0m     \u001b[0;32mreturn\u001b[0m \u001b[0mgenerated_names\u001b[0m\u001b[0;34m\u001b[0m\u001b[0;34m\u001b[0m\u001b[0m\n",
            "\u001b[0;32m<ipython-input-68-2c27da5bf30f>\u001b[0m in \u001b[0;36m<genexpr>\u001b[0;34m(.0)\u001b[0m\n\u001b[1;32m     21\u001b[0m                 \u001b[0;32mbreak\u001b[0m\u001b[0;34m\u001b[0m\u001b[0;34m\u001b[0m\u001b[0m\n\u001b[1;32m     22\u001b[0m \u001b[0;34m\u001b[0m\u001b[0m\n\u001b[0;32m---> 23\u001b[0;31m         \u001b[0mgenerated_names\u001b[0m\u001b[0;34m.\u001b[0m\u001b[0mappend\u001b[0m\u001b[0;34m(\u001b[0m\u001b[0;34m''\u001b[0m\u001b[0;34m.\u001b[0m\u001b[0mjoin\u001b[0m\u001b[0;34m(\u001b[0m\u001b[0mitos\u001b[0m\u001b[0;34m[\u001b[0m\u001b[0mi\u001b[0m\u001b[0;34m]\u001b[0m \u001b[0;32mfor\u001b[0m \u001b[0mi\u001b[0m \u001b[0;32min\u001b[0m \u001b[0mout\u001b[0m\u001b[0;34m)\u001b[0m\u001b[0;34m)\u001b[0m\u001b[0;34m\u001b[0m\u001b[0;34m\u001b[0m\u001b[0m\n\u001b[0m\u001b[1;32m     24\u001b[0m \u001b[0;34m\u001b[0m\u001b[0m\n\u001b[1;32m     25\u001b[0m     \u001b[0;32mreturn\u001b[0m \u001b[0mgenerated_names\u001b[0m\u001b[0;34m\u001b[0m\u001b[0;34m\u001b[0m\u001b[0m\n",
            "\u001b[0;31mKeyError\u001b[0m: 28"
          ]
        }
      ]
    },
    {
      "source": [
        "# in this part we can see the generated names since they are generated only from the \"itos_sp' that inculde all the characters\n",
        "print(\"Generating Spanish names with English model...\")\n",
        "generate_names(C_en, W1_en, b1_en, W2_en, b2_en, itos_sp, num_names=10) # Using itos_sp for Spanish names\n",
        "\n",
        "\n",
        "print(\"Generating English names with Spanish model...\")\n",
        "generate_names(C_sp, W1_sp, b1_sp, W2_sp, b2_sp, itos_sp, num_names=10) # Using itos_sp, not itos_en"
      ],
      "cell_type": "code",
      "metadata": {
        "id": "P1kQYAFvpZhE",
        "colab": {
          "base_uri": "https://localhost:8080/"
        },
        "outputId": "fb28bd1d-a31e-4866-c58d-acae01a3fcb9"
      },
      "execution_count": 70,
      "outputs": [
        {
          "output_type": "stream",
          "name": "stdout",
          "text": [
            "Generating Spanish names with English model...\n",
            "Generating English names with Spanish model...\n"
          ]
        },
        {
          "output_type": "execute_result",
          "data": {
            "text/plain": [
              "['anta verdillande.',\n",
              " 'campo.',\n",
              " 'bicho zigzagueo volcánico.',\n",
              " 'cierto.',\n",
              " 'chincho zigzagueo saharaña banrtado.',\n",
              " 'foca azul.',\n",
              " 'bicho zigzagueo estal.',\n",
              " 'bicho zigzagueo japonte.',\n",
              " 'bicho zigzagueo tetraldimensional.',\n",
              " 'corpión bameria.']"
            ]
          },
          "metadata": {},
          "execution_count": 70
        }
      ]
    },
    {
      "cell_type": "code",
      "source": [],
      "metadata": {
        "id": "6o83xNlOmMnq"
      },
      "execution_count": null,
      "outputs": []
    }
  ]
}